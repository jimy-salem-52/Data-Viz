{
 "cells": [
  {
   "cell_type": "markdown",
   "metadata": {},
   "source": [
    "# Introduction\n",
    "\n",
    "The data shows the crime rate in quarter 1 and 2 from 2023 till 2024 in cities in South Australia \n",
    "\n",
    "The data is colleceted by the South Australia Police and found on a governmental open data site https://data.gov.au/\n",
    "\n"
   ]
  },
  {
   "cell_type": "markdown",
   "metadata": {},
   "source": [
    "## Data Cleaning\n",
    "\n",
    "### Importing Data"
   ]
  },
  {
   "cell_type": "code",
   "execution_count": 1,
   "metadata": {},
   "outputs": [],
   "source": [
    "import pandas as pd\n",
    "import numpy as np"
   ]
  },
  {
   "cell_type": "code",
   "execution_count": 2,
   "metadata": {},
   "outputs": [
    {
     "data": {
      "text/html": [
       "<div>\n",
       "<style scoped>\n",
       "    .dataframe tbody tr th:only-of-type {\n",
       "        vertical-align: middle;\n",
       "    }\n",
       "\n",
       "    .dataframe tbody tr th {\n",
       "        vertical-align: top;\n",
       "    }\n",
       "\n",
       "    .dataframe thead th {\n",
       "        text-align: right;\n",
       "    }\n",
       "</style>\n",
       "<table border=\"1\" class=\"dataframe\">\n",
       "  <thead>\n",
       "    <tr style=\"text-align: right;\">\n",
       "      <th></th>\n",
       "      <th>Reported Date</th>\n",
       "      <th>Suburb - Incident</th>\n",
       "      <th>Postcode - Incident</th>\n",
       "      <th>Offence Level 1 Description</th>\n",
       "      <th>Offence Level 2 Description</th>\n",
       "      <th>Offence Level 3 Description</th>\n",
       "      <th>Offence count</th>\n",
       "    </tr>\n",
       "  </thead>\n",
       "  <tbody>\n",
       "    <tr>\n",
       "      <th>0</th>\n",
       "      <td>2/7/2023</td>\n",
       "      <td>ADELAIDE</td>\n",
       "      <td>5000</td>\n",
       "      <td>OFFENCES AGAINST THE PERSON</td>\n",
       "      <td>OTHER OFFENCES AGAINST THE PERSON</td>\n",
       "      <td>Abduction, harassment and other offences</td>\n",
       "      <td>1</td>\n",
       "    </tr>\n",
       "    <tr>\n",
       "      <th>1</th>\n",
       "      <td>3/7/2023</td>\n",
       "      <td>MURRAY BRIDGE</td>\n",
       "      <td>5253</td>\n",
       "      <td>OFFENCES AGAINST THE PERSON</td>\n",
       "      <td>OTHER OFFENCES AGAINST THE PERSON</td>\n",
       "      <td>Abduction, harassment and other offences</td>\n",
       "      <td>1</td>\n",
       "    </tr>\n",
       "    <tr>\n",
       "      <th>2</th>\n",
       "      <td>4/7/2023</td>\n",
       "      <td>GLENUNGA</td>\n",
       "      <td>5064</td>\n",
       "      <td>OFFENCES AGAINST THE PERSON</td>\n",
       "      <td>OTHER OFFENCES AGAINST THE PERSON</td>\n",
       "      <td>Abduction, harassment and other offences</td>\n",
       "      <td>1</td>\n",
       "    </tr>\n",
       "    <tr>\n",
       "      <th>3</th>\n",
       "      <td>5/7/2023</td>\n",
       "      <td>CAMPBELLTOWN</td>\n",
       "      <td>5074</td>\n",
       "      <td>OFFENCES AGAINST THE PERSON</td>\n",
       "      <td>OTHER OFFENCES AGAINST THE PERSON</td>\n",
       "      <td>Abduction, harassment and other offences</td>\n",
       "      <td>1</td>\n",
       "    </tr>\n",
       "    <tr>\n",
       "      <th>4</th>\n",
       "      <td>5/7/2023</td>\n",
       "      <td>MILE END</td>\n",
       "      <td>5031</td>\n",
       "      <td>OFFENCES AGAINST THE PERSON</td>\n",
       "      <td>OTHER OFFENCES AGAINST THE PERSON</td>\n",
       "      <td>Abduction, harassment and other offences</td>\n",
       "      <td>1</td>\n",
       "    </tr>\n",
       "  </tbody>\n",
       "</table>\n",
       "</div>"
      ],
      "text/plain": [
       "  Reported Date Suburb - Incident Postcode - Incident  \\\n",
       "0      2/7/2023          ADELAIDE                5000   \n",
       "1      3/7/2023     MURRAY BRIDGE                5253   \n",
       "2      4/7/2023          GLENUNGA                5064   \n",
       "3      5/7/2023      CAMPBELLTOWN                5074   \n",
       "4      5/7/2023          MILE END                5031   \n",
       "\n",
       "   Offence Level 1 Description        Offence Level 2 Description  \\\n",
       "0  OFFENCES AGAINST THE PERSON  OTHER OFFENCES AGAINST THE PERSON   \n",
       "1  OFFENCES AGAINST THE PERSON  OTHER OFFENCES AGAINST THE PERSON   \n",
       "2  OFFENCES AGAINST THE PERSON  OTHER OFFENCES AGAINST THE PERSON   \n",
       "3  OFFENCES AGAINST THE PERSON  OTHER OFFENCES AGAINST THE PERSON   \n",
       "4  OFFENCES AGAINST THE PERSON  OTHER OFFENCES AGAINST THE PERSON   \n",
       "\n",
       "                Offence Level 3 Description  Offence count  \n",
       "0  Abduction, harassment and other offences              1  \n",
       "1  Abduction, harassment and other offences              1  \n",
       "2  Abduction, harassment and other offences              1  \n",
       "3  Abduction, harassment and other offences              1  \n",
       "4  Abduction, harassment and other offences              1  "
      ]
     },
     "execution_count": 2,
     "metadata": {},
     "output_type": "execute_result"
    }
   ],
   "source": [
    "df=pd.read_csv(r'data_sa_crime_q1_q2_2023-24.csv')\n",
    "df.head()"
   ]
  },
  {
   "cell_type": "markdown",
   "metadata": {},
   "source": [
    "### Checking the types"
   ]
  },
  {
   "cell_type": "code",
   "execution_count": 3,
   "metadata": {},
   "outputs": [
    {
     "name": "stdout",
     "output_type": "stream",
     "text": [
      "Reported Date                  object\n",
      "Suburb - Incident              object\n",
      "Postcode - Incident            object\n",
      "Offence Level 1 Description    object\n",
      "Offence Level 2 Description    object\n",
      "Offence Level 3 Description    object\n",
      "Offence count                   int64\n",
      "dtype: object\n"
     ]
    }
   ],
   "source": [
    "print(df.dtypes)"
   ]
  },
  {
   "cell_type": "code",
   "execution_count": 4,
   "metadata": {},
   "outputs": [
    {
     "name": "stdout",
     "output_type": "stream",
     "text": [
      "50123\n"
     ]
    }
   ],
   "source": [
    "print(df.shape[0])"
   ]
  },
  {
   "cell_type": "markdown",
   "metadata": {},
   "source": [
    "#### Interpretation\n",
    "\n",
    "The data is shaped to have 50123 crime cases and the activity reported were the report date, suburb, postcode, offence level 1, 2,3 and the count \n",
    "\n",
    "### Checking Null Values and Categories"
   ]
  },
  {
   "cell_type": "code",
   "execution_count": 5,
   "metadata": {},
   "outputs": [
    {
     "name": "stdout",
     "output_type": "stream",
     "text": [
      "Reported Date                    0\n",
      "Suburb - Incident              125\n",
      "Postcode - Incident            132\n",
      "Offence Level 1 Description      0\n",
      "Offence Level 2 Description      0\n",
      "Offence Level 3 Description      0\n",
      "Offence count                    0\n",
      "dtype: int64\n"
     ]
    }
   ],
   "source": [
    "null_col=df.isnull().sum()\n",
    "print(null_col)\n"
   ]
  },
  {
   "cell_type": "code",
   "execution_count": 6,
   "metadata": {},
   "outputs": [
    {
     "name": "stdout",
     "output_type": "stream",
     "text": [
      "Categories of Offence Level 1\n",
      "['OFFENCES AGAINST THE PERSON' 'OFFENCES AGAINST PROPERTY']\n",
      "\n",
      "Categories of Offence Level 2\n",
      "['OTHER OFFENCES AGAINST THE PERSON' 'ROBBERY AND RELATED OFFENCES'\n",
      " 'SEXUAL ASSAULT AND RELATED OFFENCES' 'ACTS INTENDED TO CAUSE INJURY'\n",
      " 'PROPERTY DAMAGE AND ENVIRONMENTAL' 'HOMICIDE AND RELATED OFFENCES'\n",
      " 'FRAUD DECEPTION AND RELATED OFFENCES' 'THEFT AND RELATED OFFENCES'\n",
      " 'SERIOUS CRIMINAL TRESPASS']\n",
      "\n",
      "Categories of Offence Level 3\n",
      "['Abduction, harassment and other offences' 'Aggravated robbery'\n",
      " 'Aggravated sexual assault' 'Assault police' 'Blackmail and extortion'\n",
      " 'Common Assault' 'Dangerous or negligent acts' 'Graffiti' 'Murder'\n",
      " 'Non-aggravated robbery' 'Non-aggravated sexual assault'\n",
      " 'Non-assaultive sexual offences' 'Obtain benefit by deception'\n",
      " 'Other acts intended to cause injury'\n",
      " 'Other fraud, deception and related offences'\n",
      " 'Other homicide and related offences'\n",
      " 'Other property damage and environmental' 'Other theft'\n",
      " 'Other unlawful entry with intent' 'Property damage by fire or explosion'\n",
      " 'Receive or handle proceeds of crime' 'SCT - Non Residence'\n",
      " 'SCT - Residence' 'Serious Assault not resulting in injury'\n",
      " 'Serious Assault resulting in injury' 'Theft from motor vehicle'\n",
      " 'Theft from shop' 'Theft/Illegal Use of MV' 'Threatening behaviour']\n"
     ]
    }
   ],
   "source": [
    "print ('Categories of Offence Level 1')\n",
    "print(df['Offence Level 1 Description'].unique())\n",
    "print()\n",
    "print('Categories of Offence Level 2')\n",
    "print(df['Offence Level 2 Description'].unique())\n",
    "print()\n",
    "print('Categories of Offence Level 3')\n",
    "print(df['Offence Level 3 Description'].unique())"
   ]
  },
  {
   "cell_type": "code",
   "execution_count": 7,
   "metadata": {},
   "outputs": [
    {
     "name": "stdout",
     "output_type": "stream",
     "text": [
      "Offence count minimum 1\n",
      "Offence count maximum 22\n",
      "Offence count mean 1.239\n",
      "Offence count standard deviation 0.744\n"
     ]
    }
   ],
   "source": [
    "print(f\"Offence count minimum {df['Offence count'].min()}\\n\"\n",
    "      f\"Offence count maximum {df['Offence count'].max()}\\n\"\n",
    "      f\"Offence count mean {round(df['Offence count'].mean(), 3)}\\n\"\n",
    "      f\"Offence count standard deviation {round(df['Offence count'].std(),3)}\")"
   ]
  },
  {
   "cell_type": "markdown",
   "metadata": {},
   "source": [
    "#### Interpretation\n",
    "\n",
    "Null Values seems to be allocated only in Suburb-Incident and Postcode-incident.\n",
    "\n",
    "The Offence Levels can be categorized after catogirizing \n",
    "\n",
    "As for the offence count, it shows that there aren't normally scaled showing a good sign of security measures taken\n",
    "\n",
    "However, there are more postcode non listed than suburb then it can be identified "
   ]
  },
  {
   "cell_type": "code",
   "execution_count": 8,
   "metadata": {},
   "outputs": [
    {
     "data": {
      "text/html": [
       "<div>\n",
       "<style scoped>\n",
       "    .dataframe tbody tr th:only-of-type {\n",
       "        vertical-align: middle;\n",
       "    }\n",
       "\n",
       "    .dataframe tbody tr th {\n",
       "        vertical-align: top;\n",
       "    }\n",
       "\n",
       "    .dataframe thead th {\n",
       "        text-align: right;\n",
       "    }\n",
       "</style>\n",
       "<table border=\"1\" class=\"dataframe\">\n",
       "  <thead>\n",
       "    <tr style=\"text-align: right;\">\n",
       "      <th></th>\n",
       "      <th>Suburb - Incident</th>\n",
       "      <th>Postcode - Incident</th>\n",
       "    </tr>\n",
       "  </thead>\n",
       "  <tbody>\n",
       "    <tr>\n",
       "      <th>18</th>\n",
       "      <td>NaN</td>\n",
       "      <td>NaN</td>\n",
       "    </tr>\n",
       "    <tr>\n",
       "      <th>142</th>\n",
       "      <td>NaN</td>\n",
       "      <td>5000</td>\n",
       "    </tr>\n",
       "    <tr>\n",
       "      <th>254</th>\n",
       "      <td>NaN</td>\n",
       "      <td>NaN</td>\n",
       "    </tr>\n",
       "    <tr>\n",
       "      <th>262</th>\n",
       "      <td>NaN</td>\n",
       "      <td>NaN</td>\n",
       "    </tr>\n",
       "    <tr>\n",
       "      <th>341</th>\n",
       "      <td>NUNDROO</td>\n",
       "      <td>NaN</td>\n",
       "    </tr>\n",
       "    <tr>\n",
       "      <th>422</th>\n",
       "      <td>NaN</td>\n",
       "      <td>NaN</td>\n",
       "    </tr>\n",
       "    <tr>\n",
       "      <th>909</th>\n",
       "      <td>NaN</td>\n",
       "      <td>NaN</td>\n",
       "    </tr>\n",
       "    <tr>\n",
       "      <th>919</th>\n",
       "      <td>NaN</td>\n",
       "      <td>NaN</td>\n",
       "    </tr>\n",
       "    <tr>\n",
       "      <th>940</th>\n",
       "      <td>NaN</td>\n",
       "      <td>5000</td>\n",
       "    </tr>\n",
       "    <tr>\n",
       "      <th>946</th>\n",
       "      <td>NaN</td>\n",
       "      <td>5000</td>\n",
       "    </tr>\n",
       "  </tbody>\n",
       "</table>\n",
       "</div>"
      ],
      "text/plain": [
       "    Suburb - Incident Postcode - Incident\n",
       "18                NaN                 NaN\n",
       "142               NaN                5000\n",
       "254               NaN                 NaN\n",
       "262               NaN                 NaN\n",
       "341           NUNDROO                 NaN\n",
       "422               NaN                 NaN\n",
       "909               NaN                 NaN\n",
       "919               NaN                 NaN\n",
       "940               NaN                5000\n",
       "946               NaN                5000"
      ]
     },
     "execution_count": 8,
     "metadata": {},
     "output_type": "execute_result"
    }
   ],
   "source": [
    "# printing the rows with null values\n",
    "null_cols=df.isnull().any(axis=1)\n",
    "# allocate them in the original dataframe\n",
    "rows_nulls=df[null_cols]\n",
    "rows_nulls_df=pd.DataFrame(rows_nulls)\n",
    "# Taking only the columns needed\n",
    "rows_nulls_df=rows_nulls_df[[\"Suburb - Incident\", \"Postcode - Incident\"]]\n",
    "rows_nulls_df.head(10)\n",
    "\n",
    "\n"
   ]
  },
  {
   "cell_type": "code",
   "execution_count": 9,
   "metadata": {},
   "outputs": [
    {
     "name": "stdout",
     "output_type": "stream",
     "text": [
      "99\n"
     ]
    }
   ],
   "source": [
    "condition1= (rows_nulls_df['Suburb - Incident'].isnull()) & (rows_nulls_df['Postcode - Incident'].isnull())\n",
    "both_null=rows_nulls_df[condition1]\n",
    "print(both_null.shape[0])"
   ]
  },
  {
   "cell_type": "markdown",
   "metadata": {},
   "source": [
    "##### Check Conditions"
   ]
  },
  {
   "cell_type": "code",
   "execution_count": 10,
   "metadata": {},
   "outputs": [
    {
     "name": "stdout",
     "output_type": "stream",
     "text": [
      "      Suburb - Incident Postcode - Incident\n",
      "142                 NaN                5000\n",
      "940                 NaN                5000\n",
      "946                 NaN                5000\n",
      "1026                NaN                5000\n",
      "4120                NaN                5000\n",
      "4521                NaN                5000\n",
      "4529                NaN                5000\n",
      "4541                NaN                5000\n",
      "4629                NaN                5000\n",
      "4642                NaN                5000\n",
      "4829                NaN                5000\n",
      "5086                NaN                5000\n",
      "5146                NaN                5000\n",
      "5258                NaN                5000\n",
      "5674                NaN                5000\n",
      "5786                NaN                5000\n",
      "6048                NaN                5000\n",
      "6150                NaN                5000\n",
      "6193                NaN                5000\n",
      "6601                NaN                5000\n",
      "8036                NaN                5000\n",
      "12260               NaN                5540\n",
      "15330               NaN                5000\n",
      "17887               NaN                5000\n",
      "25889               NaN                5000\n",
      "26320               NaN                5000\n"
     ]
    }
   ],
   "source": [
    "condition2=(rows_nulls_df['Suburb - Incident'].isnull()) & (rows_nulls_df['Postcode - Incident'].notnull())\n",
    "suburb_null=rows_nulls_df[condition2]\n",
    "print(suburb_null)"
   ]
  },
  {
   "cell_type": "code",
   "execution_count": 34,
   "metadata": {},
   "outputs": [
    {
     "name": "stdout",
     "output_type": "stream",
     "text": [
      "      Suburb - Incident Postcode - Incident\n",
      "341             NUNDROO                 NaN\n",
      "4479           KINGSLEY                 NaN\n",
      "4483       DARLINGHURST                 NaN\n",
      "4511            BURWOOD                 NaN\n",
      "4524         LEICHHARDT                 NaN\n",
      "4569          RIVERWOOD                 NaN\n",
      "4601             NUNDAH                 NaN\n",
      "4685        SAINT MARYS                 NaN\n",
      "4760      CAMPBELLFIELD                 NaN\n",
      "4898         WHITTLESEA                 NaN\n",
      "4970            WODONGA                 NaN\n",
      "5085         WEST PERTH                 NaN\n",
      "5126          MELBOURNE                 NaN\n",
      "5581           NEW PORT                 NaN\n",
      "5725        PASCOE VALE                 NaN\n",
      "5925          MELBOURNE                 NaN\n",
      "6061          CAVERSHAM                 NaN\n",
      "6195            CLAYTON                 NaN\n",
      "6637          MELBOURNE                 NaN\n",
      "11995            NEWMAN                 NaN\n",
      "15817        HELENSVALE                 NaN\n",
      "16282          PORT VIC                 NaN\n",
      "17269           WODONGA                 NaN\n",
      "18036          QUIRINDI                 NaN\n",
      "20643            NEWMAN                 NaN\n",
      "25870          QUIRINDI                 NaN\n",
      "31311      WILLIAMSTOWN                 NaN\n",
      "33640          GIBERTON                 NaN\n",
      "35707           PHILLIP                 NaN\n",
      "37031        GREENARCES                 NaN\n",
      "38322       SAINT MARYS                 NaN\n",
      "41542       HIGHERCOMBE                 NaN\n",
      "43405       HALLET COVE                 NaN\n"
     ]
    }
   ],
   "source": [
    "condition3=(rows_nulls_df['Suburb - Incident'].notnull()) & (rows_nulls_df['Postcode - Incident'].isnull())\n",
    "postcode_null=rows_nulls_df[condition3]\n",
    "print(postcode_null)"
   ]
  },
  {
   "cell_type": "markdown",
   "metadata": {},
   "source": [
    "### Interpretation \n",
    "\n",
    "In Police Cases, some location can be undisclosed and in our case marked as \"NOT DISCLOSED\". For the condition of both nulls we can us it\n",
    "\n",
    "A post code of 5000 is pointing for adelaide and 5540  is port piri\n",
    "\n",
    "As for the condition3 where the suburb is shown and the postcode is NAN some cases show that some weren't filled even if the post code is known. Maybe an idea of contactenating the data with another dataset for Australian post codes\n",
    "\n",
    "https://github.com/Elkfox/Australian-Postcode-Data/blob/master/au_postcodes.csv\n",
    "\n"
   ]
  },
  {
   "cell_type": "markdown",
   "metadata": {},
   "source": [
    "#### First Changing both null to \"NOT DISCLOSED\""
   ]
  },
  {
   "cell_type": "code",
   "execution_count": 33,
   "metadata": {},
   "outputs": [
    {
     "name": "stdout",
     "output_type": "stream",
     "text": [
      "Reported Date                  0\n",
      "Suburb - Incident              0\n",
      "Postcode - Incident            6\n",
      "Offence Level 1 Description    0\n",
      "Offence Level 2 Description    0\n",
      "Offence Level 3 Description    0\n",
      "Offence count                  0\n",
      "Suburb - Incident - Cleaned    0\n",
      "dtype: int64\n"
     ]
    }
   ],
   "source": [
    "condition1_original= (df['Suburb - Incident'].isnull()) & (df['Postcode - Incident'].isnull())\n",
    "df.loc[condition1_original, ['Suburb - Incident', 'Postcode - Incident']] = 'NOT DISCLOSED'\n",
    "print (df.isnull().sum())\n"
   ]
  },
  {
   "cell_type": "markdown",
   "metadata": {},
   "source": [
    "#### Changing Condition 1"
   ]
  },
  {
   "cell_type": "code",
   "execution_count": 13,
   "metadata": {},
   "outputs": [
    {
     "name": "stdout",
     "output_type": "stream",
     "text": [
      "Reported Date                   0\n",
      "Suburb - Incident               0\n",
      "Postcode - Incident            33\n",
      "Offence Level 1 Description     0\n",
      "Offence Level 2 Description     0\n",
      "Offence Level 3 Description     0\n",
      "Offence count                   0\n",
      "dtype: int64\n"
     ]
    }
   ],
   "source": [
    "#Values\n",
    "postcode1=\"5000\"\n",
    "postcode2=\"5540\"\n",
    "\n",
    "df.loc[(df['Suburb - Incident'].isnull())&(df['Postcode - Incident']==postcode1),'Suburb - Incident']='ADELAIDE'\n",
    "df.loc[(df['Suburb - Incident'].isnull())&(df['Postcode - Incident']==postcode2),'Suburb - Incident']='PORT PIRI'\n",
    "print (df.isnull().sum())"
   ]
  },
  {
   "cell_type": "markdown",
   "metadata": {},
   "source": [
    "#### Careful Considerations\n",
    "\n",
    "After checking the website https://www.parcelforce.com/sites/default/files/au-postcodes-all-areas.pdf\n",
    "\n",
    "few postocode can be found, SINCE IT IS IN THE SOUTH MELLBOURNE WAS TAKEN SOUTH\n",
    "\n",
    "As well there should be fixing to some names \n",
    "\n",
    "\"GREENARCES\" -> \"GREENACRES\"\n",
    "\n",
    "\"GIBERTON\" -> \"BRIGHTON\"\n",
    "\n",
    "\"HIGHERCOMBE\"->\"SEACOMBE\"\n",
    "\n",
    "\"NUNDROO\" -> \"NUNDAH\""
   ]
  },
  {
   "cell_type": "code",
   "execution_count": 54,
   "metadata": {},
   "outputs": [],
   "source": [
    "postcode_dictionary={\n",
    "    \"BURWOOD\": \"2130\",\n",
    "    \"QUIRINDI\": \"2514\",\n",
    "    \"WODONGA\": \"3690\",\n",
    "    \"SAINT MARYS\": \"5461\",\n",
    "    \"CAMPBELLFIELD\": \"3061\",\n",
    "    \"WHITTLESEA\": \"3757\",\n",
    "    \"WEST PERTH\": \"6005\",\n",
    "    \"MELBOURNE\": \"5006\",\n",
    "    \"CAVERSHAM\": \"6055\",\n",
    "    \"CLAYTON\": \"5256\",\n",
    "    \"NEWMAN\": \"6753\",\n",
    "    \"NEW PORT\": \"3015\",\n",
    "    \"PASCOE VALE\": \"3044\",\n",
    "    \"HELENSVALE\": \"4212\",\n",
    "    \"PORT VIC\": \"5573\",\n",
    "    \"WILLIAMSTOWN\": \"5357\",\n",
    "    \"PHILLIP\": \"2606\",\n",
    "    \"HALLET COVE\": \"5158\",\n",
    "    \"GREENACRES\": \"5086\",\n",
    "    \"SEACOMBE\": \"5047\",\n",
    "    \"BRIGHTON\": \"5048\",\n",
    "    \"DARLINGHURST\": \"2010\",\n",
    "    \"NUNDAH\": \"4012\",\n",
    "    \"RIVERWOOD\": \"2210\",\n",
    "    \"KINGSLEY\": \"6026\",\n",
    "    \"LEICHHARDT\": \"4305\",\n",
    "    \n",
    "}\n",
    "\n"
   ]
  },
  {
   "cell_type": "markdown",
   "metadata": {},
   "source": [
    "#### Name Changing in PDF and updating postcodes"
   ]
  },
  {
   "cell_type": "code",
   "execution_count": 55,
   "metadata": {},
   "outputs": [],
   "source": [
    "df.loc[df['Suburb - Incident']==\"GREENARCES\", 'Suburb - Incident'] = 'GREENACRES'\n",
    "df.loc[df['Suburb - Incident']==\"GIBERTON\", 'Suburb - Incident'] = 'BRIGHTON'\n",
    "df.loc[df['Suburb - Incident']==\"HIGHERCOMBE\", 'Suburb - Incident'] = 'SEACOMBE'\n",
    "df.loc[df['Suburb - Incident']==\"NUNDROO\", 'Suburb - Incident'] = 'NUNDAH'\n"
   ]
  },
  {
   "cell_type": "code",
   "execution_count": 56,
   "metadata": {},
   "outputs": [],
   "source": [
    "#looping through the dictionary\n",
    "for suburb, postcode in postcode_dictionary.items():\n",
    "    df.loc[(df['Suburb - Incident']==suburb)&(df['Postcode - Incident'].isnull()), 'Postcode - Incident']=postcode\n"
   ]
  },
  {
   "cell_type": "code",
   "execution_count": 57,
   "metadata": {},
   "outputs": [
    {
     "name": "stdout",
     "output_type": "stream",
     "text": [
      "Reported Date                  0\n",
      "Suburb - Incident              0\n",
      "Postcode - Incident            0\n",
      "Offence Level 1 Description    0\n",
      "Offence Level 2 Description    0\n",
      "Offence Level 3 Description    0\n",
      "Offence count                  0\n",
      "Suburb - Incident - Cleaned    0\n",
      "dtype: int64\n"
     ]
    }
   ],
   "source": [
    "print (df.isnull().sum())"
   ]
  },
  {
   "cell_type": "code",
   "execution_count": 76,
   "metadata": {},
   "outputs": [
    {
     "name": "stdout",
     "output_type": "stream",
     "text": [
      "531\n"
     ]
    }
   ],
   "source": [
    "value_not='NOT DISCLOSED'\n",
    "non_disclosed_count=((df['Postcode - Incident']==value_not)&(df['Suburb - Incident']==value_not)).sum()\n",
    "print(non_disclosed_count)"
   ]
  },
  {
   "cell_type": "markdown",
   "metadata": {},
   "source": [
    "#### Importing the dataset for postcodes and concatenating to get longitude and latitude\n",
    "\n",
    "There are 531 cases where the post code and suburb is undisclosed"
   ]
  },
  {
   "cell_type": "code",
   "execution_count": 81,
   "metadata": {},
   "outputs": [
    {
     "name": "stdout",
     "output_type": "stream",
     "text": [
      "postcode        int64\n",
      "place_name     object\n",
      "state_name     object\n",
      "state_code     object\n",
      "latitude      float64\n",
      "longitude     float64\n",
      "accuracy      float64\n",
      "dtype: object\n"
     ]
    }
   ],
   "source": [
    "au_postcodes=pd.read_csv(r'au_postcodes.csv')\n",
    "print(au_postcodes.dtypes)\n",
    "\n",
    "post_codes_copy=au_postcodes.copy()\n"
   ]
  },
  {
   "cell_type": "markdown",
   "metadata": {},
   "source": [
    "#### Filter  the postcode to between 2000-6030"
   ]
  },
  {
   "cell_type": "code",
   "execution_count": 82,
   "metadata": {},
   "outputs": [
    {
     "data": {
      "text/html": [
       "<div>\n",
       "<style scoped>\n",
       "    .dataframe tbody tr th:only-of-type {\n",
       "        vertical-align: middle;\n",
       "    }\n",
       "\n",
       "    .dataframe tbody tr th {\n",
       "        vertical-align: top;\n",
       "    }\n",
       "\n",
       "    .dataframe thead th {\n",
       "        text-align: right;\n",
       "    }\n",
       "</style>\n",
       "<table border=\"1\" class=\"dataframe\">\n",
       "  <thead>\n",
       "    <tr style=\"text-align: right;\">\n",
       "      <th></th>\n",
       "      <th>Reported Date</th>\n",
       "      <th>Suburb - Incident</th>\n",
       "      <th>Postcode - Incident</th>\n",
       "      <th>Offence Level 1 Description</th>\n",
       "      <th>Offence Level 2 Description</th>\n",
       "      <th>Offence Level 3 Description</th>\n",
       "      <th>Offence count</th>\n",
       "      <th>latitude</th>\n",
       "      <th>longitude</th>\n",
       "    </tr>\n",
       "  </thead>\n",
       "  <tbody>\n",
       "    <tr>\n",
       "      <th>0</th>\n",
       "      <td>2/7/2023</td>\n",
       "      <td>ADELAIDE</td>\n",
       "      <td>5000</td>\n",
       "      <td>OFFENCES AGAINST THE PERSON</td>\n",
       "      <td>OTHER OFFENCES AGAINST THE PERSON</td>\n",
       "      <td>Abduction, harassment and other offences</td>\n",
       "      <td>1</td>\n",
       "      <td>-34.9287</td>\n",
       "      <td>138.5986</td>\n",
       "    </tr>\n",
       "    <tr>\n",
       "      <th>1</th>\n",
       "      <td>2/7/2023</td>\n",
       "      <td>ADELAIDE</td>\n",
       "      <td>5000</td>\n",
       "      <td>OFFENCES AGAINST THE PERSON</td>\n",
       "      <td>OTHER OFFENCES AGAINST THE PERSON</td>\n",
       "      <td>Abduction, harassment and other offences</td>\n",
       "      <td>1</td>\n",
       "      <td>-34.9286</td>\n",
       "      <td>138.6007</td>\n",
       "    </tr>\n",
       "    <tr>\n",
       "      <th>2</th>\n",
       "      <td>2/7/2023</td>\n",
       "      <td>ADELAIDE</td>\n",
       "      <td>5000</td>\n",
       "      <td>OFFENCES AGAINST THE PERSON</td>\n",
       "      <td>OTHER OFFENCES AGAINST THE PERSON</td>\n",
       "      <td>Abduction, harassment and other offences</td>\n",
       "      <td>1</td>\n",
       "      <td>-34.9286</td>\n",
       "      <td>138.6007</td>\n",
       "    </tr>\n",
       "    <tr>\n",
       "      <th>3</th>\n",
       "      <td>2/7/2023</td>\n",
       "      <td>ADELAIDE</td>\n",
       "      <td>5000</td>\n",
       "      <td>OFFENCES AGAINST THE PERSON</td>\n",
       "      <td>OTHER OFFENCES AGAINST THE PERSON</td>\n",
       "      <td>Abduction, harassment and other offences</td>\n",
       "      <td>1</td>\n",
       "      <td>-34.9286</td>\n",
       "      <td>138.6007</td>\n",
       "    </tr>\n",
       "  </tbody>\n",
       "</table>\n",
       "</div>"
      ],
      "text/plain": [
       "  Reported Date Suburb - Incident Postcode - Incident  \\\n",
       "0      2/7/2023          ADELAIDE                5000   \n",
       "1      2/7/2023          ADELAIDE                5000   \n",
       "2      2/7/2023          ADELAIDE                5000   \n",
       "3      2/7/2023          ADELAIDE                5000   \n",
       "\n",
       "   Offence Level 1 Description        Offence Level 2 Description  \\\n",
       "0  OFFENCES AGAINST THE PERSON  OTHER OFFENCES AGAINST THE PERSON   \n",
       "1  OFFENCES AGAINST THE PERSON  OTHER OFFENCES AGAINST THE PERSON   \n",
       "2  OFFENCES AGAINST THE PERSON  OTHER OFFENCES AGAINST THE PERSON   \n",
       "3  OFFENCES AGAINST THE PERSON  OTHER OFFENCES AGAINST THE PERSON   \n",
       "\n",
       "                Offence Level 3 Description  Offence count  latitude  \\\n",
       "0  Abduction, harassment and other offences              1  -34.9287   \n",
       "1  Abduction, harassment and other offences              1  -34.9286   \n",
       "2  Abduction, harassment and other offences              1  -34.9286   \n",
       "3  Abduction, harassment and other offences              1  -34.9286   \n",
       "\n",
       "   longitude  \n",
       "0   138.5986  \n",
       "1   138.6007  \n",
       "2   138.6007  \n",
       "3   138.6007  "
      ]
     },
     "execution_count": 82,
     "metadata": {},
     "output_type": "execute_result"
    }
   ],
   "source": [
    "au_postcodes['postcode']=au_postcodes['postcode'].astype(str)\n",
    "merged_df=pd.merge(df,au_postcodes,left_on='Postcode - Incident',right_on='postcode',how='left')\n",
    "final_df=merged_df[['Reported Date', 'Suburb - Incident', 'Postcode - Incident',\n",
    "       'Offence Level 1 Description', 'Offence Level 2 Description', 'Offence Level 3 Description', 'Offence count','latitude','longitude']]\n",
    "\n",
    "final_df.head(4)"
   ]
  },
  {
   "cell_type": "code",
   "execution_count": 84,
   "metadata": {},
   "outputs": [
    {
     "name": "stdout",
     "output_type": "stream",
     "text": [
      "Reported Date                    0\n",
      "Suburb - Incident                0\n",
      "Postcode - Incident              0\n",
      "Offence Level 1 Description      0\n",
      "Offence Level 2 Description      0\n",
      "Offence Level 3 Description      0\n",
      "Offence count                    0\n",
      "latitude                       552\n",
      "longitude                      552\n",
      "dtype: int64\n"
     ]
    }
   ],
   "source": [
    "print(final_df.isnull().sum())\n",
    "#about 20 cases which didn't found longitude and latitude"
   ]
  },
  {
   "cell_type": "code",
   "execution_count": null,
   "metadata": {},
   "outputs": [],
   "source": []
  }
 ],
 "metadata": {
  "kernelspec": {
   "display_name": "Python 3",
   "language": "python",
   "name": "python3"
  },
  "language_info": {
   "codemirror_mode": {
    "name": "ipython",
    "version": 3
   },
   "file_extension": ".py",
   "mimetype": "text/x-python",
   "name": "python",
   "nbconvert_exporter": "python",
   "pygments_lexer": "ipython3",
   "version": "3.11.9"
  }
 },
 "nbformat": 4,
 "nbformat_minor": 2
}
