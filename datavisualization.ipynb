{
 "cells": [
  {
   "cell_type": "markdown",
   "metadata": {},
   "source": [
    "# Introduction\n",
    "\n",
    "The data shows the crime rate in quarter 1 and 2 from 2023 till 2024 in cities in South Australia \n",
    "\n",
    "The data is colleceted by the South Australia Police and found on a governmental open data site https://data.gov.au/\n",
    "\n"
   ]
  },
  {
   "cell_type": "markdown",
   "metadata": {},
   "source": [
    "## Data Cleaning\n",
    "\n",
    "### Importing Data"
   ]
  },
  {
   "cell_type": "code",
   "execution_count": 183,
   "metadata": {},
   "outputs": [],
   "source": [
    "import pandas as pd\n",
    "import numpy as np\n",
    "import plotly.express as px\n",
    "import matplotlib"
   ]
  },
  {
   "cell_type": "code",
   "execution_count": 146,
   "metadata": {},
   "outputs": [
    {
     "data": {
      "text/html": [
       "<div>\n",
       "<style scoped>\n",
       "    .dataframe tbody tr th:only-of-type {\n",
       "        vertical-align: middle;\n",
       "    }\n",
       "\n",
       "    .dataframe tbody tr th {\n",
       "        vertical-align: top;\n",
       "    }\n",
       "\n",
       "    .dataframe thead th {\n",
       "        text-align: right;\n",
       "    }\n",
       "</style>\n",
       "<table border=\"1\" class=\"dataframe\">\n",
       "  <thead>\n",
       "    <tr style=\"text-align: right;\">\n",
       "      <th></th>\n",
       "      <th>Reported Date</th>\n",
       "      <th>Suburb - Incident</th>\n",
       "      <th>Postcode - Incident</th>\n",
       "      <th>Offence Level 1 Description</th>\n",
       "      <th>Offence Level 2 Description</th>\n",
       "      <th>Offence Level 3 Description</th>\n",
       "      <th>Offence count</th>\n",
       "    </tr>\n",
       "  </thead>\n",
       "  <tbody>\n",
       "    <tr>\n",
       "      <th>0</th>\n",
       "      <td>2/7/2023</td>\n",
       "      <td>ADELAIDE</td>\n",
       "      <td>5000</td>\n",
       "      <td>OFFENCES AGAINST THE PERSON</td>\n",
       "      <td>OTHER OFFENCES AGAINST THE PERSON</td>\n",
       "      <td>Abduction, harassment and other offences</td>\n",
       "      <td>1</td>\n",
       "    </tr>\n",
       "    <tr>\n",
       "      <th>1</th>\n",
       "      <td>3/7/2023</td>\n",
       "      <td>MURRAY BRIDGE</td>\n",
       "      <td>5253</td>\n",
       "      <td>OFFENCES AGAINST THE PERSON</td>\n",
       "      <td>OTHER OFFENCES AGAINST THE PERSON</td>\n",
       "      <td>Abduction, harassment and other offences</td>\n",
       "      <td>1</td>\n",
       "    </tr>\n",
       "    <tr>\n",
       "      <th>2</th>\n",
       "      <td>4/7/2023</td>\n",
       "      <td>GLENUNGA</td>\n",
       "      <td>5064</td>\n",
       "      <td>OFFENCES AGAINST THE PERSON</td>\n",
       "      <td>OTHER OFFENCES AGAINST THE PERSON</td>\n",
       "      <td>Abduction, harassment and other offences</td>\n",
       "      <td>1</td>\n",
       "    </tr>\n",
       "    <tr>\n",
       "      <th>3</th>\n",
       "      <td>5/7/2023</td>\n",
       "      <td>CAMPBELLTOWN</td>\n",
       "      <td>5074</td>\n",
       "      <td>OFFENCES AGAINST THE PERSON</td>\n",
       "      <td>OTHER OFFENCES AGAINST THE PERSON</td>\n",
       "      <td>Abduction, harassment and other offences</td>\n",
       "      <td>1</td>\n",
       "    </tr>\n",
       "    <tr>\n",
       "      <th>4</th>\n",
       "      <td>5/7/2023</td>\n",
       "      <td>MILE END</td>\n",
       "      <td>5031</td>\n",
       "      <td>OFFENCES AGAINST THE PERSON</td>\n",
       "      <td>OTHER OFFENCES AGAINST THE PERSON</td>\n",
       "      <td>Abduction, harassment and other offences</td>\n",
       "      <td>1</td>\n",
       "    </tr>\n",
       "  </tbody>\n",
       "</table>\n",
       "</div>"
      ],
      "text/plain": [
       "  Reported Date Suburb - Incident Postcode - Incident  \\\n",
       "0      2/7/2023          ADELAIDE                5000   \n",
       "1      3/7/2023     MURRAY BRIDGE                5253   \n",
       "2      4/7/2023          GLENUNGA                5064   \n",
       "3      5/7/2023      CAMPBELLTOWN                5074   \n",
       "4      5/7/2023          MILE END                5031   \n",
       "\n",
       "   Offence Level 1 Description        Offence Level 2 Description  \\\n",
       "0  OFFENCES AGAINST THE PERSON  OTHER OFFENCES AGAINST THE PERSON   \n",
       "1  OFFENCES AGAINST THE PERSON  OTHER OFFENCES AGAINST THE PERSON   \n",
       "2  OFFENCES AGAINST THE PERSON  OTHER OFFENCES AGAINST THE PERSON   \n",
       "3  OFFENCES AGAINST THE PERSON  OTHER OFFENCES AGAINST THE PERSON   \n",
       "4  OFFENCES AGAINST THE PERSON  OTHER OFFENCES AGAINST THE PERSON   \n",
       "\n",
       "                Offence Level 3 Description  Offence count  \n",
       "0  Abduction, harassment and other offences              1  \n",
       "1  Abduction, harassment and other offences              1  \n",
       "2  Abduction, harassment and other offences              1  \n",
       "3  Abduction, harassment and other offences              1  \n",
       "4  Abduction, harassment and other offences              1  "
      ]
     },
     "execution_count": 146,
     "metadata": {},
     "output_type": "execute_result"
    }
   ],
   "source": [
    "df=pd.read_csv(r'data_sa_crime_q1_q2_2023-24.csv')\n",
    "df.head()"
   ]
  },
  {
   "cell_type": "markdown",
   "metadata": {},
   "source": [
    "### Checking the types"
   ]
  },
  {
   "cell_type": "code",
   "execution_count": 147,
   "metadata": {},
   "outputs": [
    {
     "name": "stdout",
     "output_type": "stream",
     "text": [
      "Reported Date                  object\n",
      "Suburb - Incident              object\n",
      "Postcode - Incident            object\n",
      "Offence Level 1 Description    object\n",
      "Offence Level 2 Description    object\n",
      "Offence Level 3 Description    object\n",
      "Offence count                   int64\n",
      "dtype: object\n"
     ]
    }
   ],
   "source": [
    "print(df.dtypes)"
   ]
  },
  {
   "cell_type": "code",
   "execution_count": 148,
   "metadata": {},
   "outputs": [
    {
     "name": "stdout",
     "output_type": "stream",
     "text": [
      "50123\n"
     ]
    }
   ],
   "source": [
    "print(df.shape[0])"
   ]
  },
  {
   "cell_type": "markdown",
   "metadata": {},
   "source": [
    "#### Interpretation\n",
    "\n",
    "The data is shaped to have 50123 crime cases and the activity reported were the report date, suburb, postcode, offence level 1, 2,3 and the count \n",
    "\n",
    "### Checking Null Values and Categories"
   ]
  },
  {
   "cell_type": "code",
   "execution_count": 149,
   "metadata": {},
   "outputs": [
    {
     "name": "stdout",
     "output_type": "stream",
     "text": [
      "Reported Date                    0\n",
      "Suburb - Incident              125\n",
      "Postcode - Incident            132\n",
      "Offence Level 1 Description      0\n",
      "Offence Level 2 Description      0\n",
      "Offence Level 3 Description      0\n",
      "Offence count                    0\n",
      "dtype: int64\n"
     ]
    }
   ],
   "source": [
    "null_col=df.isnull().sum()\n",
    "print(null_col)\n"
   ]
  },
  {
   "cell_type": "code",
   "execution_count": 150,
   "metadata": {},
   "outputs": [
    {
     "name": "stdout",
     "output_type": "stream",
     "text": [
      "Categories of Offence Level 1\n",
      "['OFFENCES AGAINST THE PERSON' 'OFFENCES AGAINST PROPERTY']\n",
      "\n",
      "Categories of Offence Level 2\n",
      "['OTHER OFFENCES AGAINST THE PERSON' 'ROBBERY AND RELATED OFFENCES'\n",
      " 'SEXUAL ASSAULT AND RELATED OFFENCES' 'ACTS INTENDED TO CAUSE INJURY'\n",
      " 'PROPERTY DAMAGE AND ENVIRONMENTAL' 'HOMICIDE AND RELATED OFFENCES'\n",
      " 'FRAUD DECEPTION AND RELATED OFFENCES' 'THEFT AND RELATED OFFENCES'\n",
      " 'SERIOUS CRIMINAL TRESPASS']\n",
      "\n",
      "Categories of Offence Level 3\n",
      "['Abduction, harassment and other offences' 'Aggravated robbery'\n",
      " 'Aggravated sexual assault' 'Assault police' 'Blackmail and extortion'\n",
      " 'Common Assault' 'Dangerous or negligent acts' 'Graffiti' 'Murder'\n",
      " 'Non-aggravated robbery' 'Non-aggravated sexual assault'\n",
      " 'Non-assaultive sexual offences' 'Obtain benefit by deception'\n",
      " 'Other acts intended to cause injury'\n",
      " 'Other fraud, deception and related offences'\n",
      " 'Other homicide and related offences'\n",
      " 'Other property damage and environmental' 'Other theft'\n",
      " 'Other unlawful entry with intent' 'Property damage by fire or explosion'\n",
      " 'Receive or handle proceeds of crime' 'SCT - Non Residence'\n",
      " 'SCT - Residence' 'Serious Assault not resulting in injury'\n",
      " 'Serious Assault resulting in injury' 'Theft from motor vehicle'\n",
      " 'Theft from shop' 'Theft/Illegal Use of MV' 'Threatening behaviour']\n"
     ]
    }
   ],
   "source": [
    "print ('Categories of Offence Level 1')\n",
    "print(df['Offence Level 1 Description'].unique())\n",
    "print()\n",
    "print('Categories of Offence Level 2')\n",
    "print(df['Offence Level 2 Description'].unique())\n",
    "print()\n",
    "print('Categories of Offence Level 3')\n",
    "print(df['Offence Level 3 Description'].unique())"
   ]
  },
  {
   "cell_type": "code",
   "execution_count": 151,
   "metadata": {},
   "outputs": [
    {
     "name": "stdout",
     "output_type": "stream",
     "text": [
      "Offence count minimum 1\n",
      "Offence count maximum 22\n",
      "Offence count mean 1.239\n",
      "Offence count standard deviation 0.744\n"
     ]
    }
   ],
   "source": [
    "print(f\"Offence count minimum {df['Offence count'].min()}\\n\"\n",
    "      f\"Offence count maximum {df['Offence count'].max()}\\n\"\n",
    "      f\"Offence count mean {round(df['Offence count'].mean(), 3)}\\n\"\n",
    "      f\"Offence count standard deviation {round(df['Offence count'].std(),3)}\")"
   ]
  },
  {
   "cell_type": "markdown",
   "metadata": {},
   "source": [
    "#### Interpretation\n",
    "\n",
    "Null Values seems to be allocated only in Suburb-Incident and Postcode-incident.\n",
    "\n",
    "The Offence Levels can be categorized after catogirizing \n",
    "\n",
    "As for the offence count, it shows that there aren't normally scaled showing a good sign of security measures taken\n",
    "\n",
    "However, there are more postcode non listed than suburb then it can be identified "
   ]
  },
  {
   "cell_type": "code",
   "execution_count": 152,
   "metadata": {},
   "outputs": [
    {
     "data": {
      "text/html": [
       "<div>\n",
       "<style scoped>\n",
       "    .dataframe tbody tr th:only-of-type {\n",
       "        vertical-align: middle;\n",
       "    }\n",
       "\n",
       "    .dataframe tbody tr th {\n",
       "        vertical-align: top;\n",
       "    }\n",
       "\n",
       "    .dataframe thead th {\n",
       "        text-align: right;\n",
       "    }\n",
       "</style>\n",
       "<table border=\"1\" class=\"dataframe\">\n",
       "  <thead>\n",
       "    <tr style=\"text-align: right;\">\n",
       "      <th></th>\n",
       "      <th>Suburb - Incident</th>\n",
       "      <th>Postcode - Incident</th>\n",
       "    </tr>\n",
       "  </thead>\n",
       "  <tbody>\n",
       "    <tr>\n",
       "      <th>18</th>\n",
       "      <td>NaN</td>\n",
       "      <td>NaN</td>\n",
       "    </tr>\n",
       "    <tr>\n",
       "      <th>142</th>\n",
       "      <td>NaN</td>\n",
       "      <td>5000</td>\n",
       "    </tr>\n",
       "    <tr>\n",
       "      <th>254</th>\n",
       "      <td>NaN</td>\n",
       "      <td>NaN</td>\n",
       "    </tr>\n",
       "    <tr>\n",
       "      <th>262</th>\n",
       "      <td>NaN</td>\n",
       "      <td>NaN</td>\n",
       "    </tr>\n",
       "    <tr>\n",
       "      <th>341</th>\n",
       "      <td>NUNDROO</td>\n",
       "      <td>NaN</td>\n",
       "    </tr>\n",
       "    <tr>\n",
       "      <th>422</th>\n",
       "      <td>NaN</td>\n",
       "      <td>NaN</td>\n",
       "    </tr>\n",
       "    <tr>\n",
       "      <th>909</th>\n",
       "      <td>NaN</td>\n",
       "      <td>NaN</td>\n",
       "    </tr>\n",
       "    <tr>\n",
       "      <th>919</th>\n",
       "      <td>NaN</td>\n",
       "      <td>NaN</td>\n",
       "    </tr>\n",
       "    <tr>\n",
       "      <th>940</th>\n",
       "      <td>NaN</td>\n",
       "      <td>5000</td>\n",
       "    </tr>\n",
       "    <tr>\n",
       "      <th>946</th>\n",
       "      <td>NaN</td>\n",
       "      <td>5000</td>\n",
       "    </tr>\n",
       "  </tbody>\n",
       "</table>\n",
       "</div>"
      ],
      "text/plain": [
       "    Suburb - Incident Postcode - Incident\n",
       "18                NaN                 NaN\n",
       "142               NaN                5000\n",
       "254               NaN                 NaN\n",
       "262               NaN                 NaN\n",
       "341           NUNDROO                 NaN\n",
       "422               NaN                 NaN\n",
       "909               NaN                 NaN\n",
       "919               NaN                 NaN\n",
       "940               NaN                5000\n",
       "946               NaN                5000"
      ]
     },
     "execution_count": 152,
     "metadata": {},
     "output_type": "execute_result"
    }
   ],
   "source": [
    "# printing the rows with null values\n",
    "null_cols=df.isnull().any(axis=1)\n",
    "# allocate them in the original dataframe\n",
    "rows_nulls=df[null_cols]\n",
    "rows_nulls_df=pd.DataFrame(rows_nulls)\n",
    "# Taking only the columns needed\n",
    "rows_nulls_df=rows_nulls_df[[\"Suburb - Incident\", \"Postcode - Incident\"]]\n",
    "rows_nulls_df.head(10)\n",
    "\n",
    "\n"
   ]
  },
  {
   "cell_type": "code",
   "execution_count": 153,
   "metadata": {},
   "outputs": [
    {
     "name": "stdout",
     "output_type": "stream",
     "text": [
      "99\n"
     ]
    }
   ],
   "source": [
    "condition1= (rows_nulls_df['Suburb - Incident'].isnull()) & (rows_nulls_df['Postcode - Incident'].isnull())\n",
    "both_null=rows_nulls_df[condition1]\n",
    "print(both_null.shape[0])"
   ]
  },
  {
   "cell_type": "markdown",
   "metadata": {},
   "source": [
    "##### Check Conditions"
   ]
  },
  {
   "cell_type": "code",
   "execution_count": 154,
   "metadata": {},
   "outputs": [
    {
     "name": "stdout",
     "output_type": "stream",
     "text": [
      "      Suburb - Incident Postcode - Incident\n",
      "142                 NaN                5000\n",
      "940                 NaN                5000\n",
      "946                 NaN                5000\n",
      "1026                NaN                5000\n",
      "4120                NaN                5000\n",
      "4521                NaN                5000\n",
      "4529                NaN                5000\n",
      "4541                NaN                5000\n",
      "4629                NaN                5000\n",
      "4642                NaN                5000\n",
      "4829                NaN                5000\n",
      "5086                NaN                5000\n",
      "5146                NaN                5000\n",
      "5258                NaN                5000\n",
      "5674                NaN                5000\n",
      "5786                NaN                5000\n",
      "6048                NaN                5000\n",
      "6150                NaN                5000\n",
      "6193                NaN                5000\n",
      "6601                NaN                5000\n",
      "8036                NaN                5000\n",
      "12260               NaN                5540\n",
      "15330               NaN                5000\n",
      "17887               NaN                5000\n",
      "25889               NaN                5000\n",
      "26320               NaN                5000\n"
     ]
    }
   ],
   "source": [
    "condition2=(rows_nulls_df['Suburb - Incident'].isnull()) & (rows_nulls_df['Postcode - Incident'].notnull())\n",
    "suburb_null=rows_nulls_df[condition2]\n",
    "print(suburb_null)"
   ]
  },
  {
   "cell_type": "code",
   "execution_count": 155,
   "metadata": {},
   "outputs": [
    {
     "name": "stdout",
     "output_type": "stream",
     "text": [
      "      Suburb - Incident Postcode - Incident\n",
      "341             NUNDROO                 NaN\n",
      "4479           KINGSLEY                 NaN\n",
      "4483       DARLINGHURST                 NaN\n",
      "4511            BURWOOD                 NaN\n",
      "4524         LEICHHARDT                 NaN\n",
      "4569          RIVERWOOD                 NaN\n",
      "4601             NUNDAH                 NaN\n",
      "4685        SAINT MARYS                 NaN\n",
      "4760      CAMPBELLFIELD                 NaN\n",
      "4898         WHITTLESEA                 NaN\n",
      "4970            WODONGA                 NaN\n",
      "5085         WEST PERTH                 NaN\n",
      "5126          MELBOURNE                 NaN\n",
      "5581           NEW PORT                 NaN\n",
      "5725        PASCOE VALE                 NaN\n",
      "5925          MELBOURNE                 NaN\n",
      "6061          CAVERSHAM                 NaN\n",
      "6195            CLAYTON                 NaN\n",
      "6637          MELBOURNE                 NaN\n",
      "11995            NEWMAN                 NaN\n",
      "15817        HELENSVALE                 NaN\n",
      "16282          PORT VIC                 NaN\n",
      "17269           WODONGA                 NaN\n",
      "18036          QUIRINDI                 NaN\n",
      "20643            NEWMAN                 NaN\n",
      "25870          QUIRINDI                 NaN\n",
      "31311      WILLIAMSTOWN                 NaN\n",
      "33640          GIBERTON                 NaN\n",
      "35707           PHILLIP                 NaN\n",
      "37031        GREENARCES                 NaN\n",
      "38322       SAINT MARYS                 NaN\n",
      "41542       HIGHERCOMBE                 NaN\n",
      "43405       HALLET COVE                 NaN\n"
     ]
    }
   ],
   "source": [
    "condition3=(rows_nulls_df['Suburb - Incident'].notnull()) & (rows_nulls_df['Postcode - Incident'].isnull())\n",
    "postcode_null=rows_nulls_df[condition3]\n",
    "print(postcode_null)"
   ]
  },
  {
   "cell_type": "markdown",
   "metadata": {},
   "source": [
    "### Interpretation \n",
    "\n",
    "In Police Cases, some location can be undisclosed and in our case marked as \"NOT DISCLOSED\". For the condition of both nulls we can us it\n",
    "\n",
    "A post code of 5000 is pointing for adelaide and 5540  is port piri\n",
    "\n",
    "As for the condition3 where the suburb is shown and the postcode is NAN some cases show that some weren't filled even if the post code is known. Maybe an idea of contactenating the data with another dataset for Australian post codes\n",
    "\n",
    "https://github.com/Elkfox/Australian-Postcode-Data/blob/master/au_postcodes.csv\n",
    "\n"
   ]
  },
  {
   "cell_type": "markdown",
   "metadata": {},
   "source": [
    "#### First Changing both null to \"NOT DISCLOSED\""
   ]
  },
  {
   "cell_type": "code",
   "execution_count": 156,
   "metadata": {},
   "outputs": [
    {
     "name": "stdout",
     "output_type": "stream",
     "text": [
      "Reported Date                   0\n",
      "Suburb - Incident              26\n",
      "Postcode - Incident            33\n",
      "Offence Level 1 Description     0\n",
      "Offence Level 2 Description     0\n",
      "Offence Level 3 Description     0\n",
      "Offence count                   0\n",
      "dtype: int64\n"
     ]
    }
   ],
   "source": [
    "condition1_original= (df['Suburb - Incident'].isnull()) & (df['Postcode - Incident'].isnull())\n",
    "df.loc[condition1_original, ['Suburb - Incident', 'Postcode - Incident']] = 'NOT DISCLOSED'\n",
    "print (df.isnull().sum())\n"
   ]
  },
  {
   "cell_type": "markdown",
   "metadata": {},
   "source": [
    "#### Changing Condition 1"
   ]
  },
  {
   "cell_type": "code",
   "execution_count": 157,
   "metadata": {},
   "outputs": [
    {
     "name": "stdout",
     "output_type": "stream",
     "text": [
      "Reported Date                   0\n",
      "Suburb - Incident               0\n",
      "Postcode - Incident            33\n",
      "Offence Level 1 Description     0\n",
      "Offence Level 2 Description     0\n",
      "Offence Level 3 Description     0\n",
      "Offence count                   0\n",
      "dtype: int64\n"
     ]
    }
   ],
   "source": [
    "#Values\n",
    "postcode1=\"5000\"\n",
    "postcode2=\"5540\"\n",
    "\n",
    "df.loc[(df['Suburb - Incident'].isnull())&(df['Postcode - Incident']==postcode1),'Suburb - Incident']='ADELAIDE'\n",
    "df.loc[(df['Suburb - Incident'].isnull())&(df['Postcode - Incident']==postcode2),'Suburb - Incident']='PORT PIRI'\n",
    "print (df.isnull().sum())"
   ]
  },
  {
   "cell_type": "markdown",
   "metadata": {},
   "source": [
    "#### Careful Considerations\n",
    "\n",
    "After checking the website https://www.parcelforce.com/sites/default/files/au-postcodes-all-areas.pdf\n",
    "\n",
    "few postocode can be found, SINCE IT IS IN THE SOUTH MELLBOURNE WAS TAKEN SOUTH\n",
    "\n",
    "As well there should be fixing to some names \n",
    "\n",
    "\"GREENARCES\" -> \"GREENACRES\"\n",
    "\n",
    "\"GIBERTON\" -> \"BRIGHTON\"\n",
    "\n",
    "\"HIGHERCOMBE\"->\"SEACOMBE\"\n",
    "\n",
    "\"NUNDROO\" -> \"NUNDAH\""
   ]
  },
  {
   "cell_type": "code",
   "execution_count": 158,
   "metadata": {},
   "outputs": [],
   "source": [
    "postcode_dictionary={\n",
    "    \"BURWOOD\": \"2130\",\n",
    "    \"QUIRINDI\": \"2514\",\n",
    "    \"WODONGA\": \"3690\",\n",
    "    \"SAINT MARYS\": \"5461\",\n",
    "    \"CAMPBELLFIELD\": \"3061\",\n",
    "    \"WHITTLESEA\": \"3757\",\n",
    "    \"WEST PERTH\": \"6005\",\n",
    "    \"MELBOURNE\": \"5006\",\n",
    "    \"CAVERSHAM\": \"6055\",\n",
    "    \"CLAYTON\": \"5256\",\n",
    "    \"NEWMAN\": \"6753\",\n",
    "    \"NEW PORT\": \"3015\",\n",
    "    \"PASCOE VALE\": \"3044\",\n",
    "    \"HELENSVALE\": \"4212\",\n",
    "    \"PORT VIC\": \"5573\",\n",
    "    \"WILLIAMSTOWN\": \"5357\",\n",
    "    \"PHILLIP\": \"2606\",\n",
    "    \"HALLET COVE\": \"5158\",\n",
    "    \"GREENACRES\": \"5086\",\n",
    "    \"SEACOMBE\": \"5047\",\n",
    "    \"BRIGHTON\": \"5048\",\n",
    "    \"DARLINGHURST\": \"2010\",\n",
    "    \"NUNDAH\": \"4012\",\n",
    "    \"RIVERWOOD\": \"2210\",\n",
    "    \"KINGSLEY\": \"6026\",\n",
    "    \"LEICHHARDT\": \"4305\",\n",
    "    \n",
    "}\n",
    "\n"
   ]
  },
  {
   "cell_type": "markdown",
   "metadata": {},
   "source": [
    "#### Name Changing in PDF and updating postcodes"
   ]
  },
  {
   "cell_type": "code",
   "execution_count": 159,
   "metadata": {},
   "outputs": [],
   "source": [
    "df.loc[df['Suburb - Incident']==\"GREENARCES\", 'Suburb - Incident'] = 'GREENACRES'\n",
    "df.loc[df['Suburb - Incident']==\"GIBERTON\", 'Suburb - Incident'] = 'BRIGHTON'\n",
    "df.loc[df['Suburb - Incident']==\"HIGHERCOMBE\", 'Suburb - Incident'] = 'SEACOMBE'\n",
    "df.loc[df['Suburb - Incident']==\"NUNDROO\", 'Suburb - Incident'] = 'NUNDAH'\n"
   ]
  },
  {
   "cell_type": "code",
   "execution_count": 160,
   "metadata": {},
   "outputs": [],
   "source": [
    "#looping through the dictionary\n",
    "for suburb, postcode in postcode_dictionary.items():\n",
    "    df.loc[(df['Suburb - Incident']==suburb)&(df['Postcode - Incident'].isnull()), 'Postcode - Incident']=postcode\n"
   ]
  },
  {
   "cell_type": "code",
   "execution_count": 161,
   "metadata": {},
   "outputs": [
    {
     "name": "stdout",
     "output_type": "stream",
     "text": [
      "Reported Date                  0\n",
      "Suburb - Incident              0\n",
      "Postcode - Incident            0\n",
      "Offence Level 1 Description    0\n",
      "Offence Level 2 Description    0\n",
      "Offence Level 3 Description    0\n",
      "Offence count                  0\n",
      "dtype: int64\n"
     ]
    }
   ],
   "source": [
    "print (df.isnull().sum())"
   ]
  },
  {
   "cell_type": "code",
   "execution_count": 162,
   "metadata": {},
   "outputs": [
    {
     "name": "stdout",
     "output_type": "stream",
     "text": [
      "531\n"
     ]
    }
   ],
   "source": [
    "value_not='NOT DISCLOSED'\n",
    "non_disclosed_count=((df['Postcode - Incident']==value_not)&(df['Suburb - Incident']==value_not)).sum()\n",
    "print(non_disclosed_count)"
   ]
  },
  {
   "cell_type": "markdown",
   "metadata": {},
   "source": [
    "#### Importing the dataset for postcodes and concatenating to get longitude and latitude\n",
    "\n",
    "There are 531 cases where the post code and suburb is undisclosed"
   ]
  },
  {
   "cell_type": "code",
   "execution_count": 163,
   "metadata": {},
   "outputs": [
    {
     "name": "stdout",
     "output_type": "stream",
     "text": [
      "postcode        int64\n",
      "place_name     object\n",
      "state_name     object\n",
      "state_code     object\n",
      "latitude      float64\n",
      "longitude     float64\n",
      "accuracy      float64\n",
      "dtype: object\n"
     ]
    }
   ],
   "source": [
    "au_postcodes=pd.read_csv(r'au_postcodes.csv')\n",
    "print(au_postcodes.dtypes)\n",
    "\n",
    "post_codes_copy=au_postcodes.copy()\n"
   ]
  },
  {
   "cell_type": "code",
   "execution_count": 175,
   "metadata": {},
   "outputs": [
    {
     "data": {
      "text/html": [
       "<div>\n",
       "<style scoped>\n",
       "    .dataframe tbody tr th:only-of-type {\n",
       "        vertical-align: middle;\n",
       "    }\n",
       "\n",
       "    .dataframe tbody tr th {\n",
       "        vertical-align: top;\n",
       "    }\n",
       "\n",
       "    .dataframe thead th {\n",
       "        text-align: right;\n",
       "    }\n",
       "</style>\n",
       "<table border=\"1\" class=\"dataframe\">\n",
       "  <thead>\n",
       "    <tr style=\"text-align: right;\">\n",
       "      <th></th>\n",
       "      <th>Reported Date</th>\n",
       "      <th>Suburb - Incident</th>\n",
       "      <th>Postcode - Incident</th>\n",
       "      <th>Offence Level 1 Description</th>\n",
       "      <th>Offence Level 2 Description</th>\n",
       "      <th>Offence Level 3 Description</th>\n",
       "      <th>Offence count</th>\n",
       "      <th>latitude</th>\n",
       "      <th>longitude</th>\n",
       "    </tr>\n",
       "  </thead>\n",
       "  <tbody>\n",
       "    <tr>\n",
       "      <th>0</th>\n",
       "      <td>2/7/2023</td>\n",
       "      <td>ADELAIDE</td>\n",
       "      <td>5000</td>\n",
       "      <td>OFFENCES AGAINST THE PERSON</td>\n",
       "      <td>OTHER OFFENCES AGAINST THE PERSON</td>\n",
       "      <td>Abduction, harassment and other offences</td>\n",
       "      <td>1</td>\n",
       "      <td>-34.9287</td>\n",
       "      <td>138.5986</td>\n",
       "    </tr>\n",
       "    <tr>\n",
       "      <th>1</th>\n",
       "      <td>3/7/2023</td>\n",
       "      <td>MURRAY BRIDGE</td>\n",
       "      <td>5253</td>\n",
       "      <td>OFFENCES AGAINST THE PERSON</td>\n",
       "      <td>OTHER OFFENCES AGAINST THE PERSON</td>\n",
       "      <td>Abduction, harassment and other offences</td>\n",
       "      <td>1</td>\n",
       "      <td>-35.2300</td>\n",
       "      <td>139.2221</td>\n",
       "    </tr>\n",
       "    <tr>\n",
       "      <th>2</th>\n",
       "      <td>4/7/2023</td>\n",
       "      <td>GLENUNGA</td>\n",
       "      <td>5064</td>\n",
       "      <td>OFFENCES AGAINST THE PERSON</td>\n",
       "      <td>OTHER OFFENCES AGAINST THE PERSON</td>\n",
       "      <td>Abduction, harassment and other offences</td>\n",
       "      <td>1</td>\n",
       "      <td>-34.9629</td>\n",
       "      <td>138.6566</td>\n",
       "    </tr>\n",
       "    <tr>\n",
       "      <th>3</th>\n",
       "      <td>5/7/2023</td>\n",
       "      <td>CAMPBELLTOWN</td>\n",
       "      <td>5074</td>\n",
       "      <td>OFFENCES AGAINST THE PERSON</td>\n",
       "      <td>OTHER OFFENCES AGAINST THE PERSON</td>\n",
       "      <td>Abduction, harassment and other offences</td>\n",
       "      <td>1</td>\n",
       "      <td>-34.8821</td>\n",
       "      <td>138.6825</td>\n",
       "    </tr>\n",
       "  </tbody>\n",
       "</table>\n",
       "</div>"
      ],
      "text/plain": [
       "  Reported Date Suburb - Incident Postcode - Incident  \\\n",
       "0      2/7/2023          ADELAIDE                5000   \n",
       "1      3/7/2023     MURRAY BRIDGE                5253   \n",
       "2      4/7/2023          GLENUNGA                5064   \n",
       "3      5/7/2023      CAMPBELLTOWN                5074   \n",
       "\n",
       "   Offence Level 1 Description        Offence Level 2 Description  \\\n",
       "0  OFFENCES AGAINST THE PERSON  OTHER OFFENCES AGAINST THE PERSON   \n",
       "1  OFFENCES AGAINST THE PERSON  OTHER OFFENCES AGAINST THE PERSON   \n",
       "2  OFFENCES AGAINST THE PERSON  OTHER OFFENCES AGAINST THE PERSON   \n",
       "3  OFFENCES AGAINST THE PERSON  OTHER OFFENCES AGAINST THE PERSON   \n",
       "\n",
       "                Offence Level 3 Description  Offence count  latitude  \\\n",
       "0  Abduction, harassment and other offences              1  -34.9287   \n",
       "1  Abduction, harassment and other offences              1  -35.2300   \n",
       "2  Abduction, harassment and other offences              1  -34.9629   \n",
       "3  Abduction, harassment and other offences              1  -34.8821   \n",
       "\n",
       "   longitude  \n",
       "0   138.5986  \n",
       "1   139.2221  \n",
       "2   138.6566  \n",
       "3   138.6825  "
      ]
     },
     "execution_count": 175,
     "metadata": {},
     "output_type": "execute_result"
    }
   ],
   "source": [
    "au_postcodes['postcode']=au_postcodes['postcode'].astype(str)\n",
    "#dropping duplicates is a must\n",
    "au_postcodes = au_postcodes.drop_duplicates(subset=['postcode'], keep='first')\n",
    "merged_df=pd.merge(df,au_postcodes,left_on='Postcode - Incident',right_on='postcode',how='left')\n",
    "final_df=merged_df[['Reported Date', 'Suburb - Incident', 'Postcode - Incident',\n",
    "       'Offence Level 1 Description', 'Offence Level 2 Description', 'Offence Level 3 Description', 'Offence count','latitude','longitude']]\n",
    "\n",
    "final_df.head(4)"
   ]
  },
  {
   "cell_type": "code",
   "execution_count": 176,
   "metadata": {},
   "outputs": [
    {
     "data": {
      "text/plain": [
       "50123"
      ]
     },
     "execution_count": 176,
     "metadata": {},
     "output_type": "execute_result"
    }
   ],
   "source": [
    "final_df.shape[0]"
   ]
  },
  {
   "cell_type": "code",
   "execution_count": 177,
   "metadata": {},
   "outputs": [
    {
     "name": "stdout",
     "output_type": "stream",
     "text": [
      "Reported Date                    0\n",
      "Suburb - Incident                0\n",
      "Postcode - Incident              0\n",
      "Offence Level 1 Description      0\n",
      "Offence Level 2 Description      0\n",
      "Offence Level 3 Description      0\n",
      "Offence count                    0\n",
      "latitude                       552\n",
      "longitude                      552\n",
      "dtype: int64\n"
     ]
    }
   ],
   "source": [
    "print(final_df.isnull().sum())\n",
    "#about 20 cases which didn't found longitude and latitude"
   ]
  },
  {
   "cell_type": "code",
   "execution_count": 178,
   "metadata": {},
   "outputs": [
    {
     "name": "stdout",
     "output_type": "stream",
     "text": [
      "3121     5611\n",
      "9646     5713\n",
      "10949    5719\n",
      "11926    5611\n",
      "13473    5713\n",
      "13526    5713\n",
      "15947    5719\n",
      "16304    5719\n",
      "16536    5713\n",
      "18036    2514\n",
      "19400    5719\n",
      "19617    5719\n",
      "20823    5719\n",
      "25369    5719\n",
      "25870    2514\n",
      "26989    5719\n",
      "29126    5719\n",
      "39748    5719\n",
      "39754    5713\n",
      "39835    5719\n",
      "49921    5611\n",
      "Name: Postcode - Incident, dtype: object\n"
     ]
    }
   ],
   "source": [
    "print(final_df['Postcode - Incident'].loc[(final_df['Postcode - Incident']!='NOT DISCLOSED')&(final_df['latitude'].isnull())])"
   ]
  },
  {
   "cell_type": "code",
   "execution_count": 179,
   "metadata": {},
   "outputs": [
    {
     "data": {
      "text/html": [
       "<div>\n",
       "<style scoped>\n",
       "    .dataframe tbody tr th:only-of-type {\n",
       "        vertical-align: middle;\n",
       "    }\n",
       "\n",
       "    .dataframe tbody tr th {\n",
       "        vertical-align: top;\n",
       "    }\n",
       "\n",
       "    .dataframe thead th {\n",
       "        text-align: right;\n",
       "    }\n",
       "</style>\n",
       "<table border=\"1\" class=\"dataframe\">\n",
       "  <thead>\n",
       "    <tr style=\"text-align: right;\">\n",
       "      <th></th>\n",
       "      <th>Reported Date</th>\n",
       "      <th>Suburb - Incident</th>\n",
       "      <th>Postcode - Incident</th>\n",
       "      <th>Offence Level 1 Description</th>\n",
       "      <th>Offence Level 2 Description</th>\n",
       "      <th>Offence Level 3 Description</th>\n",
       "      <th>Offence count</th>\n",
       "      <th>latitude</th>\n",
       "      <th>longitude</th>\n",
       "    </tr>\n",
       "  </thead>\n",
       "  <tbody>\n",
       "    <tr>\n",
       "      <th>0</th>\n",
       "      <td>2/7/2023</td>\n",
       "      <td>ADELAIDE</td>\n",
       "      <td>5000</td>\n",
       "      <td>OFFENCES AGAINST THE PERSON</td>\n",
       "      <td>OTHER OFFENCES AGAINST THE PERSON</td>\n",
       "      <td>Abduction, harassment and other offences</td>\n",
       "      <td>1</td>\n",
       "      <td>-34.9287</td>\n",
       "      <td>138.5986</td>\n",
       "    </tr>\n",
       "    <tr>\n",
       "      <th>1</th>\n",
       "      <td>3/7/2023</td>\n",
       "      <td>MURRAY BRIDGE</td>\n",
       "      <td>5253</td>\n",
       "      <td>OFFENCES AGAINST THE PERSON</td>\n",
       "      <td>OTHER OFFENCES AGAINST THE PERSON</td>\n",
       "      <td>Abduction, harassment and other offences</td>\n",
       "      <td>1</td>\n",
       "      <td>-35.2300</td>\n",
       "      <td>139.2221</td>\n",
       "    </tr>\n",
       "    <tr>\n",
       "      <th>2</th>\n",
       "      <td>4/7/2023</td>\n",
       "      <td>GLENUNGA</td>\n",
       "      <td>5064</td>\n",
       "      <td>OFFENCES AGAINST THE PERSON</td>\n",
       "      <td>OTHER OFFENCES AGAINST THE PERSON</td>\n",
       "      <td>Abduction, harassment and other offences</td>\n",
       "      <td>1</td>\n",
       "      <td>-34.9629</td>\n",
       "      <td>138.6566</td>\n",
       "    </tr>\n",
       "    <tr>\n",
       "      <th>3</th>\n",
       "      <td>5/7/2023</td>\n",
       "      <td>CAMPBELLTOWN</td>\n",
       "      <td>5074</td>\n",
       "      <td>OFFENCES AGAINST THE PERSON</td>\n",
       "      <td>OTHER OFFENCES AGAINST THE PERSON</td>\n",
       "      <td>Abduction, harassment and other offences</td>\n",
       "      <td>1</td>\n",
       "      <td>-34.8821</td>\n",
       "      <td>138.6825</td>\n",
       "    </tr>\n",
       "    <tr>\n",
       "      <th>4</th>\n",
       "      <td>5/7/2023</td>\n",
       "      <td>MILE END</td>\n",
       "      <td>5031</td>\n",
       "      <td>OFFENCES AGAINST THE PERSON</td>\n",
       "      <td>OTHER OFFENCES AGAINST THE PERSON</td>\n",
       "      <td>Abduction, harassment and other offences</td>\n",
       "      <td>1</td>\n",
       "      <td>-34.9441</td>\n",
       "      <td>138.5648</td>\n",
       "    </tr>\n",
       "    <tr>\n",
       "      <th>5</th>\n",
       "      <td>5/7/2023</td>\n",
       "      <td>MOORAK</td>\n",
       "      <td>5291</td>\n",
       "      <td>OFFENCES AGAINST THE PERSON</td>\n",
       "      <td>OTHER OFFENCES AGAINST THE PERSON</td>\n",
       "      <td>Abduction, harassment and other offences</td>\n",
       "      <td>1</td>\n",
       "      <td>-37.6667</td>\n",
       "      <td>140.5833</td>\n",
       "    </tr>\n",
       "    <tr>\n",
       "      <th>6</th>\n",
       "      <td>6/7/2023</td>\n",
       "      <td>GLENELG NORTH</td>\n",
       "      <td>5045</td>\n",
       "      <td>OFFENCES AGAINST THE PERSON</td>\n",
       "      <td>OTHER OFFENCES AGAINST THE PERSON</td>\n",
       "      <td>Abduction, harassment and other offences</td>\n",
       "      <td>2</td>\n",
       "      <td>-34.9833</td>\n",
       "      <td>138.5167</td>\n",
       "    </tr>\n",
       "    <tr>\n",
       "      <th>7</th>\n",
       "      <td>7/7/2023</td>\n",
       "      <td>INGLE FARM</td>\n",
       "      <td>5098</td>\n",
       "      <td>OFFENCES AGAINST THE PERSON</td>\n",
       "      <td>OTHER OFFENCES AGAINST THE PERSON</td>\n",
       "      <td>Abduction, harassment and other offences</td>\n",
       "      <td>1</td>\n",
       "      <td>-34.8333</td>\n",
       "      <td>138.6333</td>\n",
       "    </tr>\n",
       "    <tr>\n",
       "      <th>8</th>\n",
       "      <td>7/7/2023</td>\n",
       "      <td>PARAFIELD GARDENS</td>\n",
       "      <td>5107</td>\n",
       "      <td>OFFENCES AGAINST THE PERSON</td>\n",
       "      <td>OTHER OFFENCES AGAINST THE PERSON</td>\n",
       "      <td>Abduction, harassment and other offences</td>\n",
       "      <td>1</td>\n",
       "      <td>-34.7825</td>\n",
       "      <td>138.6108</td>\n",
       "    </tr>\n",
       "    <tr>\n",
       "      <th>9</th>\n",
       "      <td>8/7/2023</td>\n",
       "      <td>RENMARK</td>\n",
       "      <td>5341</td>\n",
       "      <td>OFFENCES AGAINST THE PERSON</td>\n",
       "      <td>OTHER OFFENCES AGAINST THE PERSON</td>\n",
       "      <td>Abduction, harassment and other offences</td>\n",
       "      <td>1</td>\n",
       "      <td>-34.1006</td>\n",
       "      <td>140.6737</td>\n",
       "    </tr>\n",
       "    <tr>\n",
       "      <th>10</th>\n",
       "      <td>10/7/2023</td>\n",
       "      <td>PARA VISTA</td>\n",
       "      <td>5093</td>\n",
       "      <td>OFFENCES AGAINST THE PERSON</td>\n",
       "      <td>OTHER OFFENCES AGAINST THE PERSON</td>\n",
       "      <td>Abduction, harassment and other offences</td>\n",
       "      <td>1</td>\n",
       "      <td>-34.8399</td>\n",
       "      <td>138.6607</td>\n",
       "    </tr>\n",
       "    <tr>\n",
       "      <th>11</th>\n",
       "      <td>10/7/2023</td>\n",
       "      <td>WOODVILLE SOUTH</td>\n",
       "      <td>5011</td>\n",
       "      <td>OFFENCES AGAINST THE PERSON</td>\n",
       "      <td>OTHER OFFENCES AGAINST THE PERSON</td>\n",
       "      <td>Abduction, harassment and other offences</td>\n",
       "      <td>1</td>\n",
       "      <td>-34.8870</td>\n",
       "      <td>138.5465</td>\n",
       "    </tr>\n",
       "    <tr>\n",
       "      <th>12</th>\n",
       "      <td>12/7/2023</td>\n",
       "      <td>ALBERTON</td>\n",
       "      <td>5014</td>\n",
       "      <td>OFFENCES AGAINST THE PERSON</td>\n",
       "      <td>OTHER OFFENCES AGAINST THE PERSON</td>\n",
       "      <td>Abduction, harassment and other offences</td>\n",
       "      <td>1</td>\n",
       "      <td>-34.8667</td>\n",
       "      <td>138.5167</td>\n",
       "    </tr>\n",
       "    <tr>\n",
       "      <th>13</th>\n",
       "      <td>12/7/2023</td>\n",
       "      <td>BRIDGEWATER</td>\n",
       "      <td>5155</td>\n",
       "      <td>OFFENCES AGAINST THE PERSON</td>\n",
       "      <td>OTHER OFFENCES AGAINST THE PERSON</td>\n",
       "      <td>Abduction, harassment and other offences</td>\n",
       "      <td>1</td>\n",
       "      <td>-35.0037</td>\n",
       "      <td>138.7637</td>\n",
       "    </tr>\n",
       "    <tr>\n",
       "      <th>14</th>\n",
       "      <td>12/7/2023</td>\n",
       "      <td>MORPHETT VALE</td>\n",
       "      <td>5162</td>\n",
       "      <td>OFFENCES AGAINST THE PERSON</td>\n",
       "      <td>OTHER OFFENCES AGAINST THE PERSON</td>\n",
       "      <td>Abduction, harassment and other offences</td>\n",
       "      <td>1</td>\n",
       "      <td>-35.1333</td>\n",
       "      <td>138.5167</td>\n",
       "    </tr>\n",
       "    <tr>\n",
       "      <th>15</th>\n",
       "      <td>14/07/2023</td>\n",
       "      <td>ELIZABETH SOUTH</td>\n",
       "      <td>5112</td>\n",
       "      <td>OFFENCES AGAINST THE PERSON</td>\n",
       "      <td>OTHER OFFENCES AGAINST THE PERSON</td>\n",
       "      <td>Abduction, harassment and other offences</td>\n",
       "      <td>1</td>\n",
       "      <td>-34.7486</td>\n",
       "      <td>138.6682</td>\n",
       "    </tr>\n",
       "    <tr>\n",
       "      <th>16</th>\n",
       "      <td>14/07/2023</td>\n",
       "      <td>HINDMARSH</td>\n",
       "      <td>5007</td>\n",
       "      <td>OFFENCES AGAINST THE PERSON</td>\n",
       "      <td>OTHER OFFENCES AGAINST THE PERSON</td>\n",
       "      <td>Abduction, harassment and other offences</td>\n",
       "      <td>1</td>\n",
       "      <td>-34.9000</td>\n",
       "      <td>138.5333</td>\n",
       "    </tr>\n",
       "    <tr>\n",
       "      <th>17</th>\n",
       "      <td>17/07/2023</td>\n",
       "      <td>ROYAL PARK</td>\n",
       "      <td>5014</td>\n",
       "      <td>OFFENCES AGAINST THE PERSON</td>\n",
       "      <td>OTHER OFFENCES AGAINST THE PERSON</td>\n",
       "      <td>Abduction, harassment and other offences</td>\n",
       "      <td>1</td>\n",
       "      <td>-34.8667</td>\n",
       "      <td>138.5167</td>\n",
       "    </tr>\n",
       "    <tr>\n",
       "      <th>18</th>\n",
       "      <td>17/07/2023</td>\n",
       "      <td>NOT DISCLOSED</td>\n",
       "      <td>NOT DISCLOSED</td>\n",
       "      <td>OFFENCES AGAINST THE PERSON</td>\n",
       "      <td>OTHER OFFENCES AGAINST THE PERSON</td>\n",
       "      <td>Abduction, harassment and other offences</td>\n",
       "      <td>1</td>\n",
       "      <td>NaN</td>\n",
       "      <td>NaN</td>\n",
       "    </tr>\n",
       "    <tr>\n",
       "      <th>19</th>\n",
       "      <td>18/07/2023</td>\n",
       "      <td>SALISBURY EAST</td>\n",
       "      <td>5109</td>\n",
       "      <td>OFFENCES AGAINST THE PERSON</td>\n",
       "      <td>OTHER OFFENCES AGAINST THE PERSON</td>\n",
       "      <td>Abduction, harassment and other offences</td>\n",
       "      <td>1</td>\n",
       "      <td>-34.7874</td>\n",
       "      <td>138.6417</td>\n",
       "    </tr>\n",
       "  </tbody>\n",
       "</table>\n",
       "</div>"
      ],
      "text/plain": [
       "   Reported Date  Suburb - Incident Postcode - Incident  \\\n",
       "0       2/7/2023           ADELAIDE                5000   \n",
       "1       3/7/2023      MURRAY BRIDGE                5253   \n",
       "2       4/7/2023           GLENUNGA                5064   \n",
       "3       5/7/2023       CAMPBELLTOWN                5074   \n",
       "4       5/7/2023           MILE END                5031   \n",
       "5       5/7/2023             MOORAK                5291   \n",
       "6       6/7/2023      GLENELG NORTH                5045   \n",
       "7       7/7/2023         INGLE FARM                5098   \n",
       "8       7/7/2023  PARAFIELD GARDENS                5107   \n",
       "9       8/7/2023            RENMARK                5341   \n",
       "10     10/7/2023         PARA VISTA                5093   \n",
       "11     10/7/2023    WOODVILLE SOUTH                5011   \n",
       "12     12/7/2023           ALBERTON                5014   \n",
       "13     12/7/2023        BRIDGEWATER                5155   \n",
       "14     12/7/2023      MORPHETT VALE                5162   \n",
       "15    14/07/2023    ELIZABETH SOUTH                5112   \n",
       "16    14/07/2023          HINDMARSH                5007   \n",
       "17    17/07/2023         ROYAL PARK                5014   \n",
       "18    17/07/2023      NOT DISCLOSED       NOT DISCLOSED   \n",
       "19    18/07/2023     SALISBURY EAST                5109   \n",
       "\n",
       "    Offence Level 1 Description        Offence Level 2 Description  \\\n",
       "0   OFFENCES AGAINST THE PERSON  OTHER OFFENCES AGAINST THE PERSON   \n",
       "1   OFFENCES AGAINST THE PERSON  OTHER OFFENCES AGAINST THE PERSON   \n",
       "2   OFFENCES AGAINST THE PERSON  OTHER OFFENCES AGAINST THE PERSON   \n",
       "3   OFFENCES AGAINST THE PERSON  OTHER OFFENCES AGAINST THE PERSON   \n",
       "4   OFFENCES AGAINST THE PERSON  OTHER OFFENCES AGAINST THE PERSON   \n",
       "5   OFFENCES AGAINST THE PERSON  OTHER OFFENCES AGAINST THE PERSON   \n",
       "6   OFFENCES AGAINST THE PERSON  OTHER OFFENCES AGAINST THE PERSON   \n",
       "7   OFFENCES AGAINST THE PERSON  OTHER OFFENCES AGAINST THE PERSON   \n",
       "8   OFFENCES AGAINST THE PERSON  OTHER OFFENCES AGAINST THE PERSON   \n",
       "9   OFFENCES AGAINST THE PERSON  OTHER OFFENCES AGAINST THE PERSON   \n",
       "10  OFFENCES AGAINST THE PERSON  OTHER OFFENCES AGAINST THE PERSON   \n",
       "11  OFFENCES AGAINST THE PERSON  OTHER OFFENCES AGAINST THE PERSON   \n",
       "12  OFFENCES AGAINST THE PERSON  OTHER OFFENCES AGAINST THE PERSON   \n",
       "13  OFFENCES AGAINST THE PERSON  OTHER OFFENCES AGAINST THE PERSON   \n",
       "14  OFFENCES AGAINST THE PERSON  OTHER OFFENCES AGAINST THE PERSON   \n",
       "15  OFFENCES AGAINST THE PERSON  OTHER OFFENCES AGAINST THE PERSON   \n",
       "16  OFFENCES AGAINST THE PERSON  OTHER OFFENCES AGAINST THE PERSON   \n",
       "17  OFFENCES AGAINST THE PERSON  OTHER OFFENCES AGAINST THE PERSON   \n",
       "18  OFFENCES AGAINST THE PERSON  OTHER OFFENCES AGAINST THE PERSON   \n",
       "19  OFFENCES AGAINST THE PERSON  OTHER OFFENCES AGAINST THE PERSON   \n",
       "\n",
       "                 Offence Level 3 Description  Offence count  latitude  \\\n",
       "0   Abduction, harassment and other offences              1  -34.9287   \n",
       "1   Abduction, harassment and other offences              1  -35.2300   \n",
       "2   Abduction, harassment and other offences              1  -34.9629   \n",
       "3   Abduction, harassment and other offences              1  -34.8821   \n",
       "4   Abduction, harassment and other offences              1  -34.9441   \n",
       "5   Abduction, harassment and other offences              1  -37.6667   \n",
       "6   Abduction, harassment and other offences              2  -34.9833   \n",
       "7   Abduction, harassment and other offences              1  -34.8333   \n",
       "8   Abduction, harassment and other offences              1  -34.7825   \n",
       "9   Abduction, harassment and other offences              1  -34.1006   \n",
       "10  Abduction, harassment and other offences              1  -34.8399   \n",
       "11  Abduction, harassment and other offences              1  -34.8870   \n",
       "12  Abduction, harassment and other offences              1  -34.8667   \n",
       "13  Abduction, harassment and other offences              1  -35.0037   \n",
       "14  Abduction, harassment and other offences              1  -35.1333   \n",
       "15  Abduction, harassment and other offences              1  -34.7486   \n",
       "16  Abduction, harassment and other offences              1  -34.9000   \n",
       "17  Abduction, harassment and other offences              1  -34.8667   \n",
       "18  Abduction, harassment and other offences              1       NaN   \n",
       "19  Abduction, harassment and other offences              1  -34.7874   \n",
       "\n",
       "    longitude  \n",
       "0    138.5986  \n",
       "1    139.2221  \n",
       "2    138.6566  \n",
       "3    138.6825  \n",
       "4    138.5648  \n",
       "5    140.5833  \n",
       "6    138.5167  \n",
       "7    138.6333  \n",
       "8    138.6108  \n",
       "9    140.6737  \n",
       "10   138.6607  \n",
       "11   138.5465  \n",
       "12   138.5167  \n",
       "13   138.7637  \n",
       "14   138.5167  \n",
       "15   138.6682  \n",
       "16   138.5333  \n",
       "17   138.5167  \n",
       "18        NaN  \n",
       "19   138.6417  "
      ]
     },
     "execution_count": 179,
     "metadata": {},
     "output_type": "execute_result"
    }
   ],
   "source": [
    "final_df.head(20)"
   ]
  },
  {
   "cell_type": "markdown",
   "metadata": {},
   "source": [
    "## Few Data Changes\n",
    "\n",
    "\n",
    "The Offence Level 1 Description marks whether it is an offence against a property or an offence against a person, so better to change the values to just \"property\" and \"person\"\n"
   ]
  },
  {
   "cell_type": "code",
   "execution_count": 181,
   "metadata": {},
   "outputs": [],
   "source": [
    "#https://pandas.pydata.org/pandas-docs/stable/reference/api/pandas.DataFrame.replace.html\n",
    "#Categories of Offence Level 1 ['OFFENCES AGAINST THE PERSON' 'OFFENCES AGAINST PROPERTY']\n",
    "final_df = final_df.replace({'Offence Level 1 Description':{\n",
    "        'OFFENCES AGAINST THE PERSON': 'person',\n",
    "        'OFFENCES AGAINST PROPERTY': 'property'\n",
    "    }\n",
    "})"
   ]
  },
  {
   "cell_type": "markdown",
   "metadata": {},
   "source": [
    "## Pie Chart over property or person"
   ]
  },
  {
   "cell_type": "code",
   "execution_count": 188,
   "metadata": {},
   "outputs": [
    {
     "data": {
      "application/vnd.plotly.v1+json": {
       "config": {
        "plotlyServerURL": "https://plot.ly"
       },
       "data": [
        {
         "domain": {
          "x": [
           0,
           1
          ],
          "y": [
           0,
           1
          ]
         },
         "hovertemplate": "label=%{label}<br>value=%{value}<extra></extra>",
         "labels": [
          "property",
          "person"
         ],
         "legendgroup": "",
         "name": "",
         "showlegend": true,
         "type": "pie",
         "values": [
          38614,
          11509
         ]
        }
       ],
       "layout": {
        "legend": {
         "tracegroupgap": 0
        },
        "template": {
         "data": {
          "bar": [
           {
            "error_x": {
             "color": "#2a3f5f"
            },
            "error_y": {
             "color": "#2a3f5f"
            },
            "marker": {
             "line": {
              "color": "#E5ECF6",
              "width": 0.5
             },
             "pattern": {
              "fillmode": "overlay",
              "size": 10,
              "solidity": 0.2
             }
            },
            "type": "bar"
           }
          ],
          "barpolar": [
           {
            "marker": {
             "line": {
              "color": "#E5ECF6",
              "width": 0.5
             },
             "pattern": {
              "fillmode": "overlay",
              "size": 10,
              "solidity": 0.2
             }
            },
            "type": "barpolar"
           }
          ],
          "carpet": [
           {
            "aaxis": {
             "endlinecolor": "#2a3f5f",
             "gridcolor": "white",
             "linecolor": "white",
             "minorgridcolor": "white",
             "startlinecolor": "#2a3f5f"
            },
            "baxis": {
             "endlinecolor": "#2a3f5f",
             "gridcolor": "white",
             "linecolor": "white",
             "minorgridcolor": "white",
             "startlinecolor": "#2a3f5f"
            },
            "type": "carpet"
           }
          ],
          "choropleth": [
           {
            "colorbar": {
             "outlinewidth": 0,
             "ticks": ""
            },
            "type": "choropleth"
           }
          ],
          "contour": [
           {
            "colorbar": {
             "outlinewidth": 0,
             "ticks": ""
            },
            "colorscale": [
             [
              0,
              "#0d0887"
             ],
             [
              0.1111111111111111,
              "#46039f"
             ],
             [
              0.2222222222222222,
              "#7201a8"
             ],
             [
              0.3333333333333333,
              "#9c179e"
             ],
             [
              0.4444444444444444,
              "#bd3786"
             ],
             [
              0.5555555555555556,
              "#d8576b"
             ],
             [
              0.6666666666666666,
              "#ed7953"
             ],
             [
              0.7777777777777778,
              "#fb9f3a"
             ],
             [
              0.8888888888888888,
              "#fdca26"
             ],
             [
              1,
              "#f0f921"
             ]
            ],
            "type": "contour"
           }
          ],
          "contourcarpet": [
           {
            "colorbar": {
             "outlinewidth": 0,
             "ticks": ""
            },
            "type": "contourcarpet"
           }
          ],
          "heatmap": [
           {
            "colorbar": {
             "outlinewidth": 0,
             "ticks": ""
            },
            "colorscale": [
             [
              0,
              "#0d0887"
             ],
             [
              0.1111111111111111,
              "#46039f"
             ],
             [
              0.2222222222222222,
              "#7201a8"
             ],
             [
              0.3333333333333333,
              "#9c179e"
             ],
             [
              0.4444444444444444,
              "#bd3786"
             ],
             [
              0.5555555555555556,
              "#d8576b"
             ],
             [
              0.6666666666666666,
              "#ed7953"
             ],
             [
              0.7777777777777778,
              "#fb9f3a"
             ],
             [
              0.8888888888888888,
              "#fdca26"
             ],
             [
              1,
              "#f0f921"
             ]
            ],
            "type": "heatmap"
           }
          ],
          "heatmapgl": [
           {
            "colorbar": {
             "outlinewidth": 0,
             "ticks": ""
            },
            "colorscale": [
             [
              0,
              "#0d0887"
             ],
             [
              0.1111111111111111,
              "#46039f"
             ],
             [
              0.2222222222222222,
              "#7201a8"
             ],
             [
              0.3333333333333333,
              "#9c179e"
             ],
             [
              0.4444444444444444,
              "#bd3786"
             ],
             [
              0.5555555555555556,
              "#d8576b"
             ],
             [
              0.6666666666666666,
              "#ed7953"
             ],
             [
              0.7777777777777778,
              "#fb9f3a"
             ],
             [
              0.8888888888888888,
              "#fdca26"
             ],
             [
              1,
              "#f0f921"
             ]
            ],
            "type": "heatmapgl"
           }
          ],
          "histogram": [
           {
            "marker": {
             "pattern": {
              "fillmode": "overlay",
              "size": 10,
              "solidity": 0.2
             }
            },
            "type": "histogram"
           }
          ],
          "histogram2d": [
           {
            "colorbar": {
             "outlinewidth": 0,
             "ticks": ""
            },
            "colorscale": [
             [
              0,
              "#0d0887"
             ],
             [
              0.1111111111111111,
              "#46039f"
             ],
             [
              0.2222222222222222,
              "#7201a8"
             ],
             [
              0.3333333333333333,
              "#9c179e"
             ],
             [
              0.4444444444444444,
              "#bd3786"
             ],
             [
              0.5555555555555556,
              "#d8576b"
             ],
             [
              0.6666666666666666,
              "#ed7953"
             ],
             [
              0.7777777777777778,
              "#fb9f3a"
             ],
             [
              0.8888888888888888,
              "#fdca26"
             ],
             [
              1,
              "#f0f921"
             ]
            ],
            "type": "histogram2d"
           }
          ],
          "histogram2dcontour": [
           {
            "colorbar": {
             "outlinewidth": 0,
             "ticks": ""
            },
            "colorscale": [
             [
              0,
              "#0d0887"
             ],
             [
              0.1111111111111111,
              "#46039f"
             ],
             [
              0.2222222222222222,
              "#7201a8"
             ],
             [
              0.3333333333333333,
              "#9c179e"
             ],
             [
              0.4444444444444444,
              "#bd3786"
             ],
             [
              0.5555555555555556,
              "#d8576b"
             ],
             [
              0.6666666666666666,
              "#ed7953"
             ],
             [
              0.7777777777777778,
              "#fb9f3a"
             ],
             [
              0.8888888888888888,
              "#fdca26"
             ],
             [
              1,
              "#f0f921"
             ]
            ],
            "type": "histogram2dcontour"
           }
          ],
          "mesh3d": [
           {
            "colorbar": {
             "outlinewidth": 0,
             "ticks": ""
            },
            "type": "mesh3d"
           }
          ],
          "parcoords": [
           {
            "line": {
             "colorbar": {
              "outlinewidth": 0,
              "ticks": ""
             }
            },
            "type": "parcoords"
           }
          ],
          "pie": [
           {
            "automargin": true,
            "type": "pie"
           }
          ],
          "scatter": [
           {
            "fillpattern": {
             "fillmode": "overlay",
             "size": 10,
             "solidity": 0.2
            },
            "type": "scatter"
           }
          ],
          "scatter3d": [
           {
            "line": {
             "colorbar": {
              "outlinewidth": 0,
              "ticks": ""
             }
            },
            "marker": {
             "colorbar": {
              "outlinewidth": 0,
              "ticks": ""
             }
            },
            "type": "scatter3d"
           }
          ],
          "scattercarpet": [
           {
            "marker": {
             "colorbar": {
              "outlinewidth": 0,
              "ticks": ""
             }
            },
            "type": "scattercarpet"
           }
          ],
          "scattergeo": [
           {
            "marker": {
             "colorbar": {
              "outlinewidth": 0,
              "ticks": ""
             }
            },
            "type": "scattergeo"
           }
          ],
          "scattergl": [
           {
            "marker": {
             "colorbar": {
              "outlinewidth": 0,
              "ticks": ""
             }
            },
            "type": "scattergl"
           }
          ],
          "scattermapbox": [
           {
            "marker": {
             "colorbar": {
              "outlinewidth": 0,
              "ticks": ""
             }
            },
            "type": "scattermapbox"
           }
          ],
          "scatterpolar": [
           {
            "marker": {
             "colorbar": {
              "outlinewidth": 0,
              "ticks": ""
             }
            },
            "type": "scatterpolar"
           }
          ],
          "scatterpolargl": [
           {
            "marker": {
             "colorbar": {
              "outlinewidth": 0,
              "ticks": ""
             }
            },
            "type": "scatterpolargl"
           }
          ],
          "scatterternary": [
           {
            "marker": {
             "colorbar": {
              "outlinewidth": 0,
              "ticks": ""
             }
            },
            "type": "scatterternary"
           }
          ],
          "surface": [
           {
            "colorbar": {
             "outlinewidth": 0,
             "ticks": ""
            },
            "colorscale": [
             [
              0,
              "#0d0887"
             ],
             [
              0.1111111111111111,
              "#46039f"
             ],
             [
              0.2222222222222222,
              "#7201a8"
             ],
             [
              0.3333333333333333,
              "#9c179e"
             ],
             [
              0.4444444444444444,
              "#bd3786"
             ],
             [
              0.5555555555555556,
              "#d8576b"
             ],
             [
              0.6666666666666666,
              "#ed7953"
             ],
             [
              0.7777777777777778,
              "#fb9f3a"
             ],
             [
              0.8888888888888888,
              "#fdca26"
             ],
             [
              1,
              "#f0f921"
             ]
            ],
            "type": "surface"
           }
          ],
          "table": [
           {
            "cells": {
             "fill": {
              "color": "#EBF0F8"
             },
             "line": {
              "color": "white"
             }
            },
            "header": {
             "fill": {
              "color": "#C8D4E3"
             },
             "line": {
              "color": "white"
             }
            },
            "type": "table"
           }
          ]
         },
         "layout": {
          "annotationdefaults": {
           "arrowcolor": "#2a3f5f",
           "arrowhead": 0,
           "arrowwidth": 1
          },
          "autotypenumbers": "strict",
          "coloraxis": {
           "colorbar": {
            "outlinewidth": 0,
            "ticks": ""
           }
          },
          "colorscale": {
           "diverging": [
            [
             0,
             "#8e0152"
            ],
            [
             0.1,
             "#c51b7d"
            ],
            [
             0.2,
             "#de77ae"
            ],
            [
             0.3,
             "#f1b6da"
            ],
            [
             0.4,
             "#fde0ef"
            ],
            [
             0.5,
             "#f7f7f7"
            ],
            [
             0.6,
             "#e6f5d0"
            ],
            [
             0.7,
             "#b8e186"
            ],
            [
             0.8,
             "#7fbc41"
            ],
            [
             0.9,
             "#4d9221"
            ],
            [
             1,
             "#276419"
            ]
           ],
           "sequential": [
            [
             0,
             "#0d0887"
            ],
            [
             0.1111111111111111,
             "#46039f"
            ],
            [
             0.2222222222222222,
             "#7201a8"
            ],
            [
             0.3333333333333333,
             "#9c179e"
            ],
            [
             0.4444444444444444,
             "#bd3786"
            ],
            [
             0.5555555555555556,
             "#d8576b"
            ],
            [
             0.6666666666666666,
             "#ed7953"
            ],
            [
             0.7777777777777778,
             "#fb9f3a"
            ],
            [
             0.8888888888888888,
             "#fdca26"
            ],
            [
             1,
             "#f0f921"
            ]
           ],
           "sequentialminus": [
            [
             0,
             "#0d0887"
            ],
            [
             0.1111111111111111,
             "#46039f"
            ],
            [
             0.2222222222222222,
             "#7201a8"
            ],
            [
             0.3333333333333333,
             "#9c179e"
            ],
            [
             0.4444444444444444,
             "#bd3786"
            ],
            [
             0.5555555555555556,
             "#d8576b"
            ],
            [
             0.6666666666666666,
             "#ed7953"
            ],
            [
             0.7777777777777778,
             "#fb9f3a"
            ],
            [
             0.8888888888888888,
             "#fdca26"
            ],
            [
             1,
             "#f0f921"
            ]
           ]
          },
          "colorway": [
           "#636efa",
           "#EF553B",
           "#00cc96",
           "#ab63fa",
           "#FFA15A",
           "#19d3f3",
           "#FF6692",
           "#B6E880",
           "#FF97FF",
           "#FECB52"
          ],
          "font": {
           "color": "#2a3f5f"
          },
          "geo": {
           "bgcolor": "white",
           "lakecolor": "white",
           "landcolor": "#E5ECF6",
           "showlakes": true,
           "showland": true,
           "subunitcolor": "white"
          },
          "hoverlabel": {
           "align": "left"
          },
          "hovermode": "closest",
          "mapbox": {
           "style": "light"
          },
          "paper_bgcolor": "white",
          "plot_bgcolor": "#E5ECF6",
          "polar": {
           "angularaxis": {
            "gridcolor": "white",
            "linecolor": "white",
            "ticks": ""
           },
           "bgcolor": "#E5ECF6",
           "radialaxis": {
            "gridcolor": "white",
            "linecolor": "white",
            "ticks": ""
           }
          },
          "scene": {
           "xaxis": {
            "backgroundcolor": "#E5ECF6",
            "gridcolor": "white",
            "gridwidth": 2,
            "linecolor": "white",
            "showbackground": true,
            "ticks": "",
            "zerolinecolor": "white"
           },
           "yaxis": {
            "backgroundcolor": "#E5ECF6",
            "gridcolor": "white",
            "gridwidth": 2,
            "linecolor": "white",
            "showbackground": true,
            "ticks": "",
            "zerolinecolor": "white"
           },
           "zaxis": {
            "backgroundcolor": "#E5ECF6",
            "gridcolor": "white",
            "gridwidth": 2,
            "linecolor": "white",
            "showbackground": true,
            "ticks": "",
            "zerolinecolor": "white"
           }
          },
          "shapedefaults": {
           "line": {
            "color": "#2a3f5f"
           }
          },
          "ternary": {
           "aaxis": {
            "gridcolor": "white",
            "linecolor": "white",
            "ticks": ""
           },
           "baxis": {
            "gridcolor": "white",
            "linecolor": "white",
            "ticks": ""
           },
           "bgcolor": "#E5ECF6",
           "caxis": {
            "gridcolor": "white",
            "linecolor": "white",
            "ticks": ""
           }
          },
          "title": {
           "x": 0.05
          },
          "xaxis": {
           "automargin": true,
           "gridcolor": "white",
           "linecolor": "white",
           "ticks": "",
           "title": {
            "standoff": 15
           },
           "zerolinecolor": "white",
           "zerolinewidth": 2
          },
          "yaxis": {
           "automargin": true,
           "gridcolor": "white",
           "linecolor": "white",
           "ticks": "",
           "title": {
            "standoff": 15
           },
           "zerolinecolor": "white",
           "zerolinewidth": 2
          }
         }
        },
        "title": {
         "text": "Distributions of Offences"
        }
       }
      }
     },
     "metadata": {},
     "output_type": "display_data"
    }
   ],
   "source": [
    "offence_counts=final_df['Offence Level 1 Description'].value_counts()\n",
    "fig0=px.pie(values=offence_counts, names=offence_counts.index,title='Distributions of Offences')\n",
    "fig0.show()"
   ]
  },
  {
   "cell_type": "code",
   "execution_count": 194,
   "metadata": {},
   "outputs": [
    {
     "name": "stdout",
     "output_type": "stream",
     "text": [
      "Offence Level 2 for person: \n",
      "['OTHER OFFENCES AGAINST THE PERSON' 'ROBBERY AND RELATED OFFENCES'\n",
      " 'SEXUAL ASSAULT AND RELATED OFFENCES' 'ACTS INTENDED TO CAUSE INJURY'\n",
      " 'HOMICIDE AND RELATED OFFENCES']\n",
      "\n",
      "Offence Level 2 for property:\n",
      "['PROPERTY DAMAGE AND ENVIRONMENTAL'\n",
      " 'FRAUD DECEPTION AND RELATED OFFENCES' 'THEFT AND RELATED OFFENCES'\n",
      " 'SERIOUS CRIMINAL TRESPASS']\n",
      "\n",
      "Offence Level 3 for person: \n",
      "['Abduction, harassment and other offences' 'Aggravated robbery'\n",
      " 'Aggravated sexual assault' 'Assault police' 'Blackmail and extortion'\n",
      " 'Common Assault' 'Dangerous or negligent acts' 'Murder'\n",
      " 'Non-aggravated robbery' 'Non-aggravated sexual assault'\n",
      " 'Non-assaultive sexual offences' 'Other acts intended to cause injury'\n",
      " 'Other homicide and related offences'\n",
      " 'Serious Assault not resulting in injury'\n",
      " 'Serious Assault resulting in injury' 'Threatening behaviour']\n",
      "\n",
      "Offence Level 3 for property:\n",
      "['Graffiti' 'Obtain benefit by deception'\n",
      " 'Other fraud, deception and related offences'\n",
      " 'Other property damage and environmental' 'Other theft'\n",
      " 'Other unlawful entry with intent' 'Property damage by fire or explosion'\n",
      " 'Receive or handle proceeds of crime' 'SCT - Non Residence'\n",
      " 'SCT - Residence' 'Theft from motor vehicle' 'Theft from shop'\n",
      " 'Theft/Illegal Use of MV']\n"
     ]
    }
   ],
   "source": [
    "unique_offence_2_prop=final_df[final_df['Offence Level 1 Description']=='property']['Offence Level 2 Description'].unique()\n",
    "unique_offence_2_person=final_df[final_df['Offence Level 1 Description']=='person']['Offence Level 2 Description'].unique()\n",
    "print('Offence Level 2 for person: ')\n",
    "print(unique_offence_2_person)\n",
    "print()\n",
    "print('Offence Level 2 for property:')\n",
    "print(unique_offence_2_prop)\n",
    "print() \n",
    "\n",
    "unique_offence_3_prop=final_df[final_df['Offence Level 1 Description']=='property']['Offence Level 3 Description'].unique()\n",
    "unique_offence_3_person=final_df[final_df['Offence Level 1 Description']=='person']['Offence Level 3 Description'].unique()\n",
    "print('Offence Level 3 for person: ')\n",
    "print(unique_offence_3_person)\n",
    "print()\n",
    "print('Offence Level 3 for property:')\n",
    "print(unique_offence_3_prop)"
   ]
  },
  {
   "cell_type": "code",
   "execution_count": null,
   "metadata": {},
   "outputs": [],
   "source": []
  }
 ],
 "metadata": {
  "kernelspec": {
   "display_name": "Python 3",
   "language": "python",
   "name": "python3"
  },
  "language_info": {
   "codemirror_mode": {
    "name": "ipython",
    "version": 3
   },
   "file_extension": ".py",
   "mimetype": "text/x-python",
   "name": "python",
   "nbconvert_exporter": "python",
   "pygments_lexer": "ipython3",
   "version": "3.11.9"
  }
 },
 "nbformat": 4,
 "nbformat_minor": 2
}
